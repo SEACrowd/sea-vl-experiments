{
 "cells": [
  {
   "cell_type": "code",
   "execution_count": null,
   "id": "e840d465-6622-490a-8c80-3191fc8ad349",
   "metadata": {},
   "outputs": [],
   "source": [
    "import transformers\n",
    "from transformers import (\n",
    "    PaliGemmaProcessor,\n",
    "    PaliGemmaForConditionalGeneration,\n",
    ")\n",
    "import torch\n",
    "import json\n",
    "from tqdm import tqdm\n",
    "import os\n",
    "transformers.logging.set_verbosity_error()"
   ]
  },
  {
   "cell_type": "code",
   "execution_count": null,
   "id": "699e10ec-6fee-4528-a764-a23c3622253f",
   "metadata": {},
   "outputs": [],
   "source": [
    "from datasets import load_dataset\n",
    "\n",
    "dataset = load_dataset('worldcuisines/food-kb', '', split='main')\n",
    "dataset"
   ]
  },
  {
   "cell_type": "code",
   "execution_count": null,
   "id": "53f92fb7-d446-41fd-898e-eba8071849a4",
   "metadata": {},
   "outputs": [],
   "source": [
    "def sea_filter(row):\n",
    "    SEA_REGION = \"South Eastern Asia\"\n",
    "    for i in range(1,6):\n",
    "        if row[f'region{i}'] == SEA_REGION:\n",
    "            return True\n",
    "    return False\n",
    "\n",
    "dataset = dataset.filter(sea_filter)\n",
    "dataset"
   ]
  },
  {
   "cell_type": "code",
   "execution_count": 4,
   "id": "74917f73-c904-4fe3-9f41-7be9e0e2200f",
   "metadata": {},
   "outputs": [],
   "source": [
    "en_prompt = '''Write a caption in English for an image that may include culturally significant objects or elements from Southeast Asia.  \n",
    "The caption should specifically name Southeast Asian cultural items, such as cuisine, traditions, landmarks, or other related elements if they appear in the image.\n",
    "The caption should be concise, consisting of 3 to 5 sentences.'''\n",
    "save_path= \"pali_gemma_world_cuisine_en_result.json\""
   ]
  },
  {
   "cell_type": "code",
   "execution_count": null,
   "id": "681abb3c-fcaf-4fac-8377-6ba0af8a7776",
   "metadata": {},
   "outputs": [],
   "source": [
    "model_id = \"google/paligemma2-10b-pt-896\"\n",
    "model = PaliGemmaForConditionalGeneration.from_pretrained(model_id, torch_dtype=torch.bfloat16, device_map=\"auto\").eval()\n",
    "processor = PaliGemmaProcessor.from_pretrained(model_id)"
   ]
  },
  {
   "cell_type": "code",
   "execution_count": 6,
   "id": "1b9913a2-aec5-4a19-9390-efaa804990a4",
   "metadata": {},
   "outputs": [],
   "source": [
    "def get_caption(image, prompt):\n",
    "    model_inputs = processor(text=prompt, images=image, return_tensors=\"pt\").to(torch.float16).to(model.device)\n",
    "    input_len = model_inputs[\"input_ids\"].shape[-1]\n",
    "    with torch.inference_mode():\n",
    "        generation = model.generate(**model_inputs, max_new_tokens=512, do_sample=False, num_beams=1, use_cache=True)\n",
    "        generation = generation[0][input_len:]\n",
    "        decoded = processor.decode(generation, skip_special_tokens=True)\n",
    "    return decoded"
   ]
  },
  {
   "cell_type": "code",
   "execution_count": 7,
   "id": "ec8f50b5-4436-4051-9435-9fe38c0cbacb",
   "metadata": {},
   "outputs": [],
   "source": [
    "def save_to_json(save_path, json_obj):\n",
    "    if not os.path.exists(save_path):\n",
    "        with open(save_path, \"w\") as f:\n",
    "            json.dump([json_obj], f, indent=4)\n",
    "    else:\n",
    "        with open(save_path, \"r\") as f:\n",
    "            data = json.load(f)\n",
    "        data.append(json_obj)\n",
    "        with open(save_path, \"w\") as f:\n",
    "            json.dump(data, f, indent=4)  "
   ]
  },
  {
   "cell_type": "code",
   "execution_count": null,
   "id": "732d9d69-7cf6-4b61-b432-c240659f0f91",
   "metadata": {},
   "outputs": [],
   "source": [
    "for i in tqdm(range(len(dataset)), desc=\"Progess\"):\n",
    "    row = dataset[i]\n",
    "    cuisines = row['cuisines']\n",
    "    name = row['name']\n",
    "    \n",
    "    for i in range(1, 9):\n",
    "        image_key = f\"image{i}\"  \n",
    "        image = row[image_key]\n",
    "\n",
    "        if image is not None:\n",
    "            url_key = image_key + \"_url\"\n",
    "            image_url = row[url_key]\n",
    "            image_url = image_url.replace(\"?download\", \"\")\n",
    "            caption = get_caption(image, en_prompt)\n",
    "            \n",
    "            json_obj={\"name\":name,\n",
    "                      \"cuisines\":cuisines,\n",
    "                      \"image_url\":image_url,\n",
    "                      \"caption\":caption}\n",
    "            \n",
    "            save_to_json(save_path, json_obj)"
   ]
  },
  {
   "cell_type": "code",
   "execution_count": null,
   "id": "8acec793-3604-45af-a306-29a8e6d0d953",
   "metadata": {},
   "outputs": [],
   "source": []
  }
 ],
 "metadata": {
  "kernelspec": {
   "display_name": "myenv",
   "language": "python",
   "name": "myenv"
  },
  "language_info": {
   "codemirror_mode": {
    "name": "ipython",
    "version": 3
   },
   "file_extension": ".py",
   "mimetype": "text/x-python",
   "name": "python",
   "nbconvert_exporter": "python",
   "pygments_lexer": "ipython3",
   "version": "3.10.14"
  }
 },
 "nbformat": 4,
 "nbformat_minor": 5
}
