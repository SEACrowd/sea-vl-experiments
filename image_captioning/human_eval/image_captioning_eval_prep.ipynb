{
 "cells": [
  {
   "cell_type": "code",
   "execution_count": 1,
   "id": "fd4c1fe3-1782-4bdb-862e-51740e2392c6",
   "metadata": {},
   "outputs": [],
   "source": [
    "import pandas as pd\n",
    "import random"
   ]
  },
  {
   "cell_type": "markdown",
   "id": "dc7d7615-8706-4f49-964a-055f1f50619a",
   "metadata": {},
   "source": [
    "# Loc-Aware & Loc-Agnostic Captions"
   ]
  },
  {
   "cell_type": "code",
   "execution_count": 2,
   "id": "1e53d70e-7a69-4714-a27d-b587b2adc106",
   "metadata": {},
   "outputs": [],
   "source": [
    "tradition_df = pd.read_csv('combined_seavqa_output.csv').loc[:, ['source','model','image_description','image_url','caption']].dropna()\n",
    "cuisine_df = pd.read_csv('combined_worldcuisine_output.csv').loc[:, ['source','model','image_description','image_url','caption']].dropna()\n",
    "\n",
    "tradition_df['source'] = 'SEA-VQA'\n",
    "cuisine_df['source'] = 'WorldCuisine'\n",
    "\n",
    "tradition_df['correctness'] = None\n",
    "tradition_df['naturalness'] = None\n",
    "cuisine_df['correctness'] = None\n",
    "cuisine_df['naturalness'] = None\n",
    "\n",
    "loc_agnostic_df = pd.concat([tradition_df, cuisine_df])\n",
    "loc_agnostic_df['type'] = 'loc-agnostic'"
   ]
  },
  {
   "cell_type": "code",
   "execution_count": 3,
   "id": "c7041e3f-93c1-4159-a0a7-2bd9a11b3625",
   "metadata": {},
   "outputs": [],
   "source": [
    "tradition_loc_df = pd.read_csv('seafiltered_location-aware_prompting_combined_output.csv').dropna()\n",
    "cuisine_loc_df = pd.read_csv('worldcuisine_location-aware_prompting_combined_output.csv').dropna()\n",
    "\n",
    "tradition_loc_df = tradition_loc_df.loc[:, ['Source', 'Model ID', 'culture_desc', 'Image', 'Caption']]\n",
    "tradition_loc_df.columns = ['source', 'model', 'image_description', 'image_url', 'caption']\n",
    "cuisine_loc_df = cuisine_loc_df.loc[:, ['source', 'model', 'image_description', 'image_url', 'caption']]\n",
    "\n",
    "tradition_loc_df['source'] = 'SEA-VQA'\n",
    "cuisine_loc_df['source'] = 'WorldCuisine'\n",
    "\n",
    "tradition_loc_df['correctness'] = None\n",
    "tradition_loc_df['naturalness'] = None\n",
    "cuisine_loc_df['correctness'] = None\n",
    "cuisine_loc_df['naturalness'] = None\n",
    "\n",
    "loc_aware_df = pd.concat([tradition_loc_df, cuisine_loc_df])\n",
    "loc_aware_df['type'] = 'loc-aware'"
   ]
  },
  {
   "cell_type": "code",
   "execution_count": 4,
   "id": "a8f66468-b40c-46b6-a345-ebb35981d344",
   "metadata": {},
   "outputs": [
    {
     "data": {
      "text/plain": [
       "((5332, 8), (5332, 8))"
      ]
     },
     "execution_count": 4,
     "metadata": {},
     "output_type": "execute_result"
    }
   ],
   "source": [
    "url_counts = loc_aware_df.groupby('image_url').size()\n",
    "loc_agnostic_df = loc_agnostic_df.loc[loc_agnostic_df['image_url'].isin(url_counts[url_counts == 4].index),:]\n",
    "loc_aware_df = loc_aware_df.loc[loc_aware_df['image_url'].isin(url_counts[url_counts == 4].index),:]\n",
    "loc_agnostic_df.shape, loc_aware_df.shape"
   ]
  },
  {
   "cell_type": "code",
   "execution_count": 5,
   "id": "a94639fd-6643-4cc5-98b5-811ffebfe0c2",
   "metadata": {},
   "outputs": [],
   "source": [
    "image_urls = loc_aware_df['image_url'].sample(200, random_state=14045).tolist()\n",
    "food_urls, tradition_urls = [], []\n",
    "for img_url in list(set(image_urls)):\n",
    "    if 'unesco' in img_url:\n",
    "        tradition_urls.append(img_url)\n",
    "    else:\n",
    "        food_urls.append(img_url)\n",
    "\n",
    "random.seed(14042)\n",
    "image_urls = tradition_urls[:25] + food_urls[:25]\n",
    "random.shuffle(image_urls)"
   ]
  },
  {
   "cell_type": "code",
   "execution_count": 6,
   "id": "58f2a806-e9f6-4d77-bb08-d7eced1e6bf1",
   "metadata": {},
   "outputs": [
    {
     "data": {
      "text/plain": [
       "((200, 8), (200, 8))"
      ]
     },
     "execution_count": 6,
     "metadata": {},
     "output_type": "execute_result"
    }
   ],
   "source": [
    "filt_loc_agnostic_df = loc_agnostic_df.loc[loc_agnostic_df['image_url'].isin(image_urls),:]\n",
    "filt_loc_aware_df = loc_aware_df.loc[loc_aware_df['image_url'].isin(image_urls),:]\n",
    "\n",
    "filt_loc_agnostic_df.shape, filt_loc_aware_df.shape"
   ]
  },
  {
   "cell_type": "code",
   "execution_count": 7,
   "id": "371be7cc-5597-4ea3-bdb6-91ac84822f7c",
   "metadata": {},
   "outputs": [
    {
     "name": "stderr",
     "output_type": "stream",
     "text": [
      "/home/samuel/anaconda2/envs/env_py3.7/lib/python3.7/site-packages/pandas/core/indexing.py:1951: SettingWithCopyWarning: \n",
      "A value is trying to be set on a copy of a slice from a DataFrame.\n",
      "Try using .loc[row_indexer,col_indexer] = value instead\n",
      "\n",
      "See the caveats in the documentation: https://pandas.pydata.org/pandas-docs/stable/user_guide/indexing.html#returning-a-view-versus-a-copy\n",
      "  self.obj[selected_item_labels] = value\n"
     ]
    }
   ],
   "source": [
    "# Standardize Image Description\n",
    "filt_loc_aware_df.loc[:,'image_description'] = filt_loc_aware_df.loc[:,'image_url'].apply(\n",
    "    lambda x: filt_loc_agnostic_df.loc[filt_loc_agnostic_df['image_url'] == x, 'image_description'].values[0]\n",
    ")"
   ]
  },
  {
   "cell_type": "markdown",
   "id": "302e8b56-b68b-4eef-833a-0dd566ec227b",
   "metadata": {},
   "source": [
    "# Create Human Caption"
   ]
  },
  {
   "cell_type": "code",
   "execution_count": 8,
   "id": "745d5ffe-65bf-47e7-bd84-9aa0cb6501e9",
   "metadata": {},
   "outputs": [],
   "source": [
    "tradition_loc_df = pd.read_csv('seafiltered_location-aware_prompting_combined_output.csv').dropna()\n",
    "cuisine_df = pd.read_csv('combined_worldcuisine_output.csv').dropna()"
   ]
  },
  {
   "cell_type": "code",
   "execution_count": 9,
   "id": "acbb3e04-fd2f-47a5-a705-83750c132e55",
   "metadata": {},
   "outputs": [],
   "source": [
    "tradition_human_df = tradition_loc_df.loc[tradition_loc_df['Image'].isin(image_urls), ['Image', 'gt_caption']].groupby('Image').head(1)\n",
    "tradition_human_df['caption'] = tradition_human_df['gt_caption']\n",
    "tradition_human_df = tradition_human_df[['Image', 'caption']].rename({'Image': 'image_url'}, axis='columns')\n",
    "tradition_human_df['source'] = 'SEA-VQA'\n",
    "tradition_human_df['model'] = 'Human'\n",
    "tradition_human_df.loc[:,'image_description'] = tradition_human_df.loc[:,'image_url'].apply(\n",
    "    lambda x: filt_loc_agnostic_df.loc[filt_loc_agnostic_df['image_url'] == x, 'image_description'].values[0]\n",
    ")\n",
    "tradition_human_df['correctness'] = None\n",
    "tradition_human_df['naturalness'] = None"
   ]
  },
  {
   "cell_type": "code",
   "execution_count": 10,
   "id": "b9dd8f5d-2f9b-475c-85fc-804ce6224aef",
   "metadata": {},
   "outputs": [],
   "source": [
    "cuisine_human_df = cuisine_df.loc[cuisine_df['image_url'].isin(image_urls), ['image_url', 'cuisine_name', 'image_description']].groupby('image_url').head(1)\n",
    "cuisine_human_df['caption'] = cuisine_df.apply(lambda x: f'This is a picture of {x[\"cuisine_name\"]}. {x[\"image_description\"]}.', axis='columns')\n",
    "cuisine_human_df = cuisine_human_df[['image_url', 'caption']]\n",
    "cuisine_human_df['source'] = 'WorldCuisine'\n",
    "cuisine_human_df['model'] = 'Human'\n",
    "cuisine_human_df.loc[:,'image_description'] = cuisine_human_df.loc[:,'image_url'].apply(\n",
    "    lambda x: filt_loc_agnostic_df.loc[filt_loc_agnostic_df['image_url'] == x, 'image_description'].values[0]\n",
    ")\n",
    "cuisine_human_df['correctness'] = None\n",
    "cuisine_human_df['naturalness'] = None"
   ]
  },
  {
   "cell_type": "code",
   "execution_count": 11,
   "id": "4f70fa34-4029-4bf5-a3e1-1090a3025c3e",
   "metadata": {},
   "outputs": [],
   "source": [
    "human_df = pd.concat([tradition_human_df, cuisine_human_df])\n",
    "human_df['type'] = 'human'"
   ]
  },
  {
   "cell_type": "code",
   "execution_count": null,
   "id": "7545cf70-d6b1-4ec3-8d6e-fdc31edb9cfc",
   "metadata": {},
   "outputs": [
    {
     "data": {
      "text/plain": [
       "array(['Jamu wellness culture', 'Gamelan', 'Pantun',\n",
       "       'Traditions of Pencak Silat',\n",
       "       'Pinisi, art of boatbuilding in South Sulawesi',\n",
       "       'Three genres of traditional dance in Bali',\n",
       "       'Noken multifunctional knotted or woven bag, handcraft of the people of Papua',\n",
       "       'Saman dance', 'Indonesian Angklung',\n",
       "       'Education and training in Indonesian Batik intangible cultural heritage for elementary, junior, senior, vocational school and polytechnic students, in collaboration with the Batik Museum in Pekalongan',\n",
       "       'Indonesian Kris',\n",
       "       'Kun Lbokator, traditional martial arts in Cambodia',\n",
       "       'Lkhon Khol Wat Svay Andet', 'Chapei Dang Veng',\n",
       "       'Tugging rituals and games', 'Royal ballet of Cambodia',\n",
       "       'Sbek Thom, Khmer shadow theatre',\n",
       "       'Traditional craft of Naga motif weaving in Lao communities',\n",
       "       'Khaen music of the Lao people', 'Mek Mulung', 'Songket',\n",
       "       'Ong Chun/Wangchuan/Wangkang ceremony, rituals and related practices for maintaining the sustainable connection between man and the ocean',\n",
       "       'Silat', 'Dondang Sayang', 'Mak Yong theatre',\n",
       "       'Aklan piña handloom weaving',\n",
       "       'The School of Living Traditions (SLT)',\n",
       "       'Buklog, thanksgiving ritual system of the Subanen',\n",
       "       'Darangen epic of the Maranao people of Lake Lanao',\n",
       "       'Hudhud chants of the Ifugao',\n",
       "       'Hawker culture in Singapore, community dining and culinary practices in a multicultural urban context',\n",
       "       'Songkran in Thailand, traditional Thai New Year festival',\n",
       "       'Nora, dance drama in southern Thailand',\n",
       "       'Nuad Thai, traditional Thai massage',\n",
       "       'Khon, masked dance drama in Thailand',\n",
       "       'Art of pottery-making of Chăm people',\n",
       "       'Art of Xòe dance of the Tai people in Viet Nam',\n",
       "       'Practices of Then by Tày, Nùng and Thái ethnic groups in Viet Nam',\n",
       "       'The art of Bài Chòi in Central Viet Nam',\n",
       "       'Xoan singing of Phú Thọ province, Viet Nam',\n",
       "       'Practices related to the Viet beliefs in the Mother Goddesses of Three Realms',\n",
       "       'Ví and Giặm folk songs of Nghệ Tĩnh',\n",
       "       'Art of Đờn ca tài tử music and song in southern Viet Nam',\n",
       "       'Worship of Hùng kings in Phú Thọ',\n",
       "       'Gióng festival of Phù Ðông and Sóc temples', 'Ca trù singing',\n",
       "       'Quan Họ Bắc Ninh folk songs'], dtype=object)"
      ]
     },
     "execution_count": 14,
     "metadata": {},
     "output_type": "execute_result"
    }
   ],
   "source": [
    "tradition_loc_df['culture_name'].unique()"
   ]
  },
  {
   "cell_type": "code",
   "execution_count": 12,
   "id": "fd7290f9-7618-4c53-b5a6-2c428974ecc0",
   "metadata": {},
   "outputs": [
    {
     "data": {
      "text/html": [
       "<div>\n",
       "<style scoped>\n",
       "    .dataframe tbody tr th:only-of-type {\n",
       "        vertical-align: middle;\n",
       "    }\n",
       "\n",
       "    .dataframe tbody tr th {\n",
       "        vertical-align: top;\n",
       "    }\n",
       "\n",
       "    .dataframe thead th {\n",
       "        text-align: right;\n",
       "    }\n",
       "</style>\n",
       "<table border=\"1\" class=\"dataframe\">\n",
       "  <thead>\n",
       "    <tr style=\"text-align: right;\">\n",
       "      <th></th>\n",
       "      <th>source</th>\n",
       "      <th>model</th>\n",
       "      <th>category</th>\n",
       "      <th>cuisines</th>\n",
       "      <th>cuisine_name</th>\n",
       "      <th>image_url</th>\n",
       "      <th>caption</th>\n",
       "      <th>image_description</th>\n",
       "    </tr>\n",
       "  </thead>\n",
       "  <tbody>\n",
       "    <tr>\n",
       "      <th>0</th>\n",
       "      <td>Worldcuisine</td>\n",
       "      <td>paligemma2-10b-ft-docci-448</td>\n",
       "      <td>Food</td>\n",
       "      <td>Indonesian</td>\n",
       "      <td>Rawon</td>\n",
       "      <td>https://upload.wikimedia.org/wikipedia/commons...</td>\n",
       "      <td>A close-up view of a brown plate with a brown ...</td>\n",
       "      <td>The soup is composed of a ground mixture of ga...</td>\n",
       "    </tr>\n",
       "    <tr>\n",
       "      <th>1</th>\n",
       "      <td>Worldcuisine</td>\n",
       "      <td>paligemma2-10b-ft-docci-448</td>\n",
       "      <td>Food</td>\n",
       "      <td>Indonesian</td>\n",
       "      <td>Rawon</td>\n",
       "      <td>https://upload.wikimedia.org/wikipedia/commons...</td>\n",
       "      <td>The image is of a bowl of food with a dark bro...</td>\n",
       "      <td>The soup is composed of a ground mixture of ga...</td>\n",
       "    </tr>\n",
       "    <tr>\n",
       "      <th>2</th>\n",
       "      <td>Worldcuisine</td>\n",
       "      <td>paligemma2-10b-ft-docci-448</td>\n",
       "      <td>Food</td>\n",
       "      <td>Indonesian</td>\n",
       "      <td>Rawon</td>\n",
       "      <td>https://upload.wikimedia.org/wikipedia/commons...</td>\n",
       "      <td>A close-up view of a white plate with a black ...</td>\n",
       "      <td>The soup is composed of a ground mixture of ga...</td>\n",
       "    </tr>\n",
       "    <tr>\n",
       "      <th>3</th>\n",
       "      <td>Worldcuisine</td>\n",
       "      <td>paligemma2-10b-ft-docci-448</td>\n",
       "      <td>Food</td>\n",
       "      <td>Indonesian</td>\n",
       "      <td>Rawon</td>\n",
       "      <td>https://upload.wikimedia.org/wikipedia/commons...</td>\n",
       "      <td>The image is of a white plate with a dark brow...</td>\n",
       "      <td>The soup is composed of a ground mixture of ga...</td>\n",
       "    </tr>\n",
       "    <tr>\n",
       "      <th>4</th>\n",
       "      <td>Worldcuisine</td>\n",
       "      <td>paligemma2-10b-ft-docci-448</td>\n",
       "      <td>Food</td>\n",
       "      <td>Indonesian</td>\n",
       "      <td>Rawon</td>\n",
       "      <td>https://upload.wikimedia.org/wikipedia/commons...</td>\n",
       "      <td>The image is a close-up view of a brown plate ...</td>\n",
       "      <td>The soup is composed of a ground mixture of ga...</td>\n",
       "    </tr>\n",
       "    <tr>\n",
       "      <th>...</th>\n",
       "      <td>...</td>\n",
       "      <td>...</td>\n",
       "      <td>...</td>\n",
       "      <td>...</td>\n",
       "      <td>...</td>\n",
       "      <td>...</td>\n",
       "      <td>...</td>\n",
       "      <td>...</td>\n",
       "    </tr>\n",
       "    <tr>\n",
       "      <th>3711</th>\n",
       "      <td>Worldcuisine</td>\n",
       "      <td>qwen2-VL-7B-Instruct</td>\n",
       "      <td>Food</td>\n",
       "      <td>Malaysian, Singaporean, Indonesian</td>\n",
       "      <td>Tee long pan</td>\n",
       "      <td>https://upload.wikimedia.org/wikipedia/commons...</td>\n",
       "      <td>Indulging in a traditional Southeast Asian del...</td>\n",
       "      <td>a steamed rice roll serve with shrimp paste or...</td>\n",
       "    </tr>\n",
       "    <tr>\n",
       "      <th>3712</th>\n",
       "      <td>Worldcuisine</td>\n",
       "      <td>qwen2-VL-7B-Instruct</td>\n",
       "      <td>Food</td>\n",
       "      <td>Vietnamese</td>\n",
       "      <td>Bánh bò</td>\n",
       "      <td>https://upload.wikimedia.org/wikipedia/commons...</td>\n",
       "      <td>Experience the vibrant flavors of Southeast As...</td>\n",
       "      <td>The dish is a chewy cake made of rice flour, w...</td>\n",
       "    </tr>\n",
       "    <tr>\n",
       "      <th>3713</th>\n",
       "      <td>Worldcuisine</td>\n",
       "      <td>qwen2-VL-7B-Instruct</td>\n",
       "      <td>Food</td>\n",
       "      <td>Indonesian</td>\n",
       "      <td>Milk pie</td>\n",
       "      <td>https://upload.wikimedia.org/wikipedia/commons...</td>\n",
       "      <td>Indulge in the sweet delights of Southeast Asi...</td>\n",
       "      <td>Custard tart pastry consisting of a shortcrust...</td>\n",
       "    </tr>\n",
       "    <tr>\n",
       "      <th>3714</th>\n",
       "      <td>Worldcuisine</td>\n",
       "      <td>qwen2-VL-7B-Instruct</td>\n",
       "      <td>Food</td>\n",
       "      <td>Indonesian</td>\n",
       "      <td>Milk pie</td>\n",
       "      <td>https://upload.wikimedia.org/wikipedia/commons...</td>\n",
       "      <td>Indulge in the delightful flavors of Southeast...</td>\n",
       "      <td>Custard tart pastry consisting of a shortcrust...</td>\n",
       "    </tr>\n",
       "    <tr>\n",
       "      <th>3715</th>\n",
       "      <td>Worldcuisine</td>\n",
       "      <td>qwen2-VL-7B-Instruct</td>\n",
       "      <td>Food</td>\n",
       "      <td>Indonesian</td>\n",
       "      <td>Milk pie</td>\n",
       "      <td>https://upload.wikimedia.org/wikipedia/commons...</td>\n",
       "      <td>Indulge in the delightful flavors of Southeast...</td>\n",
       "      <td>Custard tart pastry consisting of a shortcrust...</td>\n",
       "    </tr>\n",
       "  </tbody>\n",
       "</table>\n",
       "<p>3716 rows × 8 columns</p>\n",
       "</div>"
      ],
      "text/plain": [
       "            source                        model category  \\\n",
       "0     Worldcuisine  paligemma2-10b-ft-docci-448     Food   \n",
       "1     Worldcuisine  paligemma2-10b-ft-docci-448     Food   \n",
       "2     Worldcuisine  paligemma2-10b-ft-docci-448     Food   \n",
       "3     Worldcuisine  paligemma2-10b-ft-docci-448     Food   \n",
       "4     Worldcuisine  paligemma2-10b-ft-docci-448     Food   \n",
       "...            ...                          ...      ...   \n",
       "3711  Worldcuisine         qwen2-VL-7B-Instruct     Food   \n",
       "3712  Worldcuisine         qwen2-VL-7B-Instruct     Food   \n",
       "3713  Worldcuisine         qwen2-VL-7B-Instruct     Food   \n",
       "3714  Worldcuisine         qwen2-VL-7B-Instruct     Food   \n",
       "3715  Worldcuisine         qwen2-VL-7B-Instruct     Food   \n",
       "\n",
       "                                cuisines  cuisine_name  \\\n",
       "0                             Indonesian         Rawon   \n",
       "1                             Indonesian         Rawon   \n",
       "2                             Indonesian         Rawon   \n",
       "3                             Indonesian         Rawon   \n",
       "4                             Indonesian         Rawon   \n",
       "...                                  ...           ...   \n",
       "3711  Malaysian, Singaporean, Indonesian  Tee long pan   \n",
       "3712                          Vietnamese       Bánh bò   \n",
       "3713                          Indonesian      Milk pie   \n",
       "3714                          Indonesian      Milk pie   \n",
       "3715                          Indonesian      Milk pie   \n",
       "\n",
       "                                              image_url  \\\n",
       "0     https://upload.wikimedia.org/wikipedia/commons...   \n",
       "1     https://upload.wikimedia.org/wikipedia/commons...   \n",
       "2     https://upload.wikimedia.org/wikipedia/commons...   \n",
       "3     https://upload.wikimedia.org/wikipedia/commons...   \n",
       "4     https://upload.wikimedia.org/wikipedia/commons...   \n",
       "...                                                 ...   \n",
       "3711  https://upload.wikimedia.org/wikipedia/commons...   \n",
       "3712  https://upload.wikimedia.org/wikipedia/commons...   \n",
       "3713  https://upload.wikimedia.org/wikipedia/commons...   \n",
       "3714  https://upload.wikimedia.org/wikipedia/commons...   \n",
       "3715  https://upload.wikimedia.org/wikipedia/commons...   \n",
       "\n",
       "                                                caption  \\\n",
       "0     A close-up view of a brown plate with a brown ...   \n",
       "1     The image is of a bowl of food with a dark bro...   \n",
       "2     A close-up view of a white plate with a black ...   \n",
       "3     The image is of a white plate with a dark brow...   \n",
       "4     The image is a close-up view of a brown plate ...   \n",
       "...                                                 ...   \n",
       "3711  Indulging in a traditional Southeast Asian del...   \n",
       "3712  Experience the vibrant flavors of Southeast As...   \n",
       "3713  Indulge in the sweet delights of Southeast Asi...   \n",
       "3714  Indulge in the delightful flavors of Southeast...   \n",
       "3715  Indulge in the delightful flavors of Southeast...   \n",
       "\n",
       "                                      image_description  \n",
       "0     The soup is composed of a ground mixture of ga...  \n",
       "1     The soup is composed of a ground mixture of ga...  \n",
       "2     The soup is composed of a ground mixture of ga...  \n",
       "3     The soup is composed of a ground mixture of ga...  \n",
       "4     The soup is composed of a ground mixture of ga...  \n",
       "...                                                 ...  \n",
       "3711  a steamed rice roll serve with shrimp paste or...  \n",
       "3712  The dish is a chewy cake made of rice flour, w...  \n",
       "3713  Custard tart pastry consisting of a shortcrust...  \n",
       "3714  Custard tart pastry consisting of a shortcrust...  \n",
       "3715  Custard tart pastry consisting of a shortcrust...  \n",
       "\n",
       "[3716 rows x 8 columns]"
      ]
     },
     "execution_count": 12,
     "metadata": {},
     "output_type": "execute_result"
    }
   ],
   "source": [
    "cuisine_df"
   ]
  },
  {
   "cell_type": "markdown",
   "id": "03819b25-9084-4754-94d1-4cfd5bb36f5a",
   "metadata": {
    "jupyter": {
     "source_hidden": true
    },
    "tags": []
   },
   "source": [
    "# Merge & Reshuffle Caption Data"
   ]
  },
  {
   "cell_type": "code",
   "execution_count": 12,
   "id": "4087f7ba-32a8-4dda-b18e-480afaca44ea",
   "metadata": {},
   "outputs": [],
   "source": [
    "annot_df = pd.concat([filt_loc_agnostic_df, filt_loc_aware_df, human_df])[\n",
    "    ['source', 'type', 'model', 'image_description', 'image_url', 'caption', 'correctness', 'naturalness']\n",
    "]\n",
    "annot_df = annot_df.sample(annot_df.shape[0], random_state=12345).reset_index(drop=True)\n",
    "annot_df['image_url'] = annot_df['image_url'].apply(lambda x: f'=IMAGE(\"{x}\")')"
   ]
  },
  {
   "cell_type": "code",
   "execution_count": 14,
   "id": "a2a81d5d-39f9-45f4-b069-d2d1010b2acd",
   "metadata": {},
   "outputs": [],
   "source": [
    "annot_df.to_csv('annot_image_captioning.csv', index=False)"
   ]
  },
  {
   "cell_type": "code",
   "execution_count": null,
   "id": "3fd73786-f372-42a1-aa88-1a666c2a4e6a",
   "metadata": {},
   "outputs": [],
   "source": []
  },
  {
   "cell_type": "code",
   "execution_count": 10,
   "id": "2fc4c8a4-583c-4a37-88fe-13a7ff3a8752",
   "metadata": {},
   "outputs": [],
   "source": [
    "tradition_df = pd.read_csv('combined_seavqa_output.csv')\n",
    "cuisine_df = pd.read_csv('combined_worldcuisine_output.csv')"
   ]
  },
  {
   "cell_type": "code",
   "execution_count": 11,
   "id": "ee16f01e-9412-4d1c-8bfb-c8a2b28e9b07",
   "metadata": {},
   "outputs": [],
   "source": [
    "tradition_df[['image_description','culture_name']].drop_duplicates().to_csv('culture_metadata.csv', index=False)"
   ]
  },
  {
   "cell_type": "code",
   "execution_count": 12,
   "id": "e4e429bc-2bf7-4501-bbd6-c84c83f42e53",
   "metadata": {},
   "outputs": [],
   "source": [
    "cuisine_df[['image_description', 'cuisine_name']].drop_duplicates().to_csv('cuisine_metadata.csv', index=False)"
   ]
  },
  {
   "cell_type": "code",
   "execution_count": null,
   "id": "ea279605-a397-4bd3-b5ac-4286bedb3247",
   "metadata": {},
   "outputs": [],
   "source": []
  },
  {
   "cell_type": "markdown",
   "id": "22a07964-d372-40a5-b5ad-7b962120440f",
   "metadata": {},
   "source": [
    "# Create Human Data for Image Gen"
   ]
  },
  {
   "cell_type": "code",
   "execution_count": 35,
   "id": "7de3a88b-c63b-43e9-afd0-94a1d75a4379",
   "metadata": {},
   "outputs": [],
   "source": [
    "tradition_loc_df = pd.read_csv('seafiltered_location-aware_prompting_combined_output.csv').dropna()\n",
    "cuisine_df = pd.read_csv('combined_worldcuisine_output.csv').dropna()"
   ]
  },
  {
   "cell_type": "code",
   "execution_count": 40,
   "id": "e972d809-9f3a-4ecd-8f6b-5829abd6e389",
   "metadata": {},
   "outputs": [],
   "source": [
    "# Create Human Data for \n",
    "tradition_loc_df['caption'] = tradition_loc_df['culture_name'].apply(lambda x: f'An image of people doing {x}')\n",
    "tradition_loc_df['type'] = 'culture'\n",
    "tradition_loc_df['image'] = tradition_loc_df['Image']\n",
    "tradition_loc_df['model'] = 'Human'\n",
    "tradition_loc_df.loc[\n",
    "    :, ['type','model','caption','image']\n",
    "].groupby('image').head(1).to_csv('image_gen_culture_he.csv', index=False)"
   ]
  },
  {
   "cell_type": "code",
   "execution_count": 42,
   "id": "57338cf3-3851-41b8-9d2c-4ba627a1cf79",
   "metadata": {},
   "outputs": [],
   "source": [
    "cuisine_df['caption'] = cuisine_df['cuisine_name'].apply(lambda x: f'An image of people eating {x}')\n",
    "cuisine_df['type'] = 'worldcuisine'\n",
    "cuisine_df['image'] = cuisine_df['image_url']\n",
    "cuisine_df['model'] = 'human'\n",
    "cuisine_df.loc[\n",
    "    :, ['type','model','caption','image']\n",
    "].groupby('caption').head(1).sample(50, random_state=14045).to_csv('image_gen_cuisine_he.csv', index=False)"
   ]
  },
  {
   "cell_type": "code",
   "execution_count": null,
   "id": "01ef8030-b9b2-4e3a-bf60-2726794c6b6f",
   "metadata": {},
   "outputs": [],
   "source": []
  }
 ],
 "metadata": {
  "kernelspec": {
   "display_name": "Python 3",
   "language": "python",
   "name": "python3"
  },
  "language_info": {
   "codemirror_mode": {
    "name": "ipython",
    "version": 3
   },
   "file_extension": ".py",
   "mimetype": "text/x-python",
   "name": "python",
   "nbconvert_exporter": "python",
   "pygments_lexer": "ipython3",
   "version": "3.7.4"
  }
 },
 "nbformat": 4,
 "nbformat_minor": 5
}
