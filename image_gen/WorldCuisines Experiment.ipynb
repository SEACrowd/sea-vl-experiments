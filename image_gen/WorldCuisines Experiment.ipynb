{
 "cells": [
  {
   "cell_type": "code",
   "execution_count": null,
   "id": "0aa1bf15-27da-4294-82a8-bb0261759227",
   "metadata": {},
   "outputs": [],
   "source": [
    "%matplotlib inline"
   ]
  },
  {
   "cell_type": "code",
   "execution_count": null,
   "id": "5204b9d3-0ad0-4842-909c-44f75e946155",
   "metadata": {},
   "outputs": [],
   "source": [
    "import os\n",
    "\n",
    "AUTH_TOKEN=''"
   ]
  },
  {
   "cell_type": "markdown",
   "id": "a135c2d5-139d-4c87-a92b-2fb46799ab4d",
   "metadata": {},
   "source": [
    "# Prepare dataset"
   ]
  },
  {
   "cell_type": "code",
   "execution_count": null,
   "id": "2bbc055f-1d03-46aa-96a2-b6dd45913983",
   "metadata": {},
   "outputs": [],
   "source": [
    "from datasets import load_dataset\n",
    "\n",
    "dataset = load_dataset('worldcuisines/food-kb', '', split='main')\n",
    "dataset"
   ]
  },
  {
   "cell_type": "code",
   "execution_count": null,
   "id": "965d8956-4cb9-4e6a-8b84-4137a532d240",
   "metadata": {},
   "outputs": [],
   "source": [
    "def sea_filter(row):\n",
    "    SEA_REGION = \"South Eastern Asia\"\n",
    "    for i in range(1,6):\n",
    "        if row[f'region{i}'] == SEA_REGION:\n",
    "            return True\n",
    "    return False\n",
    "\n",
    "dataset = dataset.filter(sea_filter)\n",
    "dataset"
   ]
  },
  {
   "cell_type": "markdown",
   "id": "1558abdb-18ae-44f6-9564-9d1a49f25975",
   "metadata": {},
   "source": [
    "# Prepare SD2"
   ]
  },
  {
   "cell_type": "code",
   "execution_count": null,
   "id": "9ed816c3-d74b-4f6a-94f3-7595b4317954",
   "metadata": {},
   "outputs": [],
   "source": [
    "import torch\n",
    "from diffusers import StableDiffusionPipeline, EulerDiscreteScheduler\n",
    "import mathplotlib.pyplot as plt\n",
    "\n",
    "model_id = \"stabilityai/stable-diffusion-2\"\n",
    "\n",
    "# Use the Euler scheduler here instead\n",
    "scheduler = EulerDiscreteScheduler.from_pretrained(model_id, subfolder=\"scheduler\")\n",
    "pipe = StableDiffusionPipeline.from_pretrained(model_id, scheduler=scheduler, torch.dtype=torch.float16)\n",
    "pipe = pipe.to(\"cuda\")\n",
    "pipe"
   ]
  },
  {
   "cell_type": "markdown",
   "id": "8f4a9572-283d-42b0-954f-b4297ffae9d5",
   "metadata": {},
   "source": [
    "# Generate Images"
   ]
  },
  {
   "cell_type": "code",
   "execution_count": null,
   "id": "cda9472c-168d-4f76-a280-0289d3351137",
   "metadata": {},
   "outputs": [],
   "source": [
    "from pathlib import Path\n",
    "from tqdm import tqdm\n",
    "folder = './worldcuisines_images_generated'\n",
    "\n",
    "prompt = 'An image of people eating {}'\n",
    "for k,v in tqdm(enumerate(dataset)):\n",
    "    image = pipe(prompt.format(v['name'])).images[0]\n",
    "    image.save(f'{folder}/[{\",\".join(v[\"cuisines\"])}] {prompt.format(v[\"name\"])}.png')"
   ]
  }
 ],
 "metadata": {
  "kernelspec": {
   "display_name": "Python 3 (ipykernel)",
   "language": "python",
   "name": "python3"
  },
  "language_info": {
   "codemirror_mode": {
    "name": "ipython",
    "version": 3
   },
   "file_extension": ".py",
   "mimetype": "text/x-python",
   "name": "python",
   "nbconvert_exporter": "python",
   "pygments_lexer": "ipython3",
   "version": "3.12.8"
  }
 },
 "nbformat": 4,
 "nbformat_minor": 5
}
