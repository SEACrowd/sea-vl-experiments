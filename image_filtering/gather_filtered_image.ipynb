{
 "cells": [
  {
   "cell_type": "code",
   "execution_count": 1,
   "id": "7a49817e-02bf-40a5-a425-0b63899119a1",
   "metadata": {},
   "outputs": [],
   "source": [
    "import os, sys\n",
    "from glob import glob\n",
    "import pandas as pd\n",
    "import requests\n",
    "from tqdm import tqdm\n",
    "import shutil"
   ]
  },
  {
   "cell_type": "code",
   "execution_count": 2,
   "id": "6df30ebd-c311-42c8-a1f0-b1aec777984f",
   "metadata": {},
   "outputs": [],
   "source": [
    "dfs = []\n",
    "for path in glob('*/output/*.csv'):\n",
    "    if 'val' in path:\n",
    "        continue # Skip Validation Set\n",
    "    df = pd.read_csv(path)\n",
    "    df['source'] = path.split('/')[-1][:-4]\n",
    "    dfs.append(df.loc[df['match_score'] >= 0.555,:])\n",
    "df = pd.concat(dfs).sort_values(['source', 'match_score']).reset_index(drop=True)\n",
    "df.to_csv('filtered_image_meta.csv', index=False)"
   ]
  },
  {
   "cell_type": "code",
   "execution_count": 6,
   "id": "99a44f74-315e-4dd7-b48a-9ae6e33c780e",
   "metadata": {
    "scrolled": true,
    "tags": []
   },
   "outputs": [
    {
     "name": "stderr",
     "output_type": "stream",
     "text": [
      "499it [00:00, 2390.81it/s]"
     ]
    },
    {
     "name": "stdout",
     "output_type": "stream",
     "text": [
      "failed downloading  http://jeffenjane.com/wp-content/uploads/2013/12/DSC05960-1024x680.jpg ...\n",
      "HTTPConnectionPool(host='jeffenjane.com', port=80): Max retries exceeded with url: /wp-content/uploads/2013/12/DSC05960-1024x680.jpg (Caused by NewConnectionError('<urllib3.connection.HTTPConnection object at 0x7f2769a4bac0>: Failed to establish a new connection: [Errno -5] No address associated with hostname'))\n",
      "failed downloading  https://baotangphunu.org.vn/wp-content/uploads/2014/04/2-1.jpg ...\n",
      "('Connection aborted.', ConnectionResetError(104, 'Connection reset by peer'))\n"
     ]
    },
    {
     "name": "stderr",
     "output_type": "stream",
     "text": [
      "2136it [00:00, 3588.03it/s]"
     ]
    },
    {
     "name": "stdout",
     "output_type": "stream",
     "text": [
      "failed downloading  https://canossacollegespc.com.ph/wp-content/uploads/2018/10/42211151_10214724157151485_2865786893549699072_n-960x350.jpg ...\n",
      "('Connection aborted.', ConnectionResetError(104, 'Connection reset by peer'))\n",
      "failed downloading  https://anlacgreensymphony.tinbds24h.com.vn/wp-content/uploads/sites/12/2020/09/hinh-anh-du-an-anlac-green-symphony.jpg ...\n",
      "('Connection aborted.', ConnectionResetError(104, 'Connection reset by peer'))\n",
      "failed downloading  https://namhuongcorp.com.vn/wp-content/uploads/2019/10/CW3A7541-1.jpg ...\n",
      "('Connection aborted.', ConnectionResetError(104, 'Connection reset by peer'))\n",
      "failed downloading  https://vanlanguni.edu.vn/images/nhom-nhap-tin/2017/11/14/dong-phuong-hoc/asia-travel-photography-2.jpg ...\n",
      "HTTPSConnectionPool(host='vanlanguni.edu.vn', port=443): Max retries exceeded with url: /images/nhom-nhap-tin/2017/11/14/dong-phuong-hoc/asia-travel-photography-2.jpg (Caused by NewConnectionError('<urllib3.connection.HTTPSConnection object at 0x7f2769a1cc10>: Failed to establish a new connection: [Errno 111] Connection refused'))\n",
      "failed downloading  https://alliancerealestate.com.vn/wp-content/uploads/2019/05/efd44d0062f187afdee0-554x360-c-center.jpg ...\n",
      "('Connection aborted.', ConnectionResetError(104, 'Connection reset by peer'))\n"
     ]
    },
    {
     "name": "stderr",
     "output_type": "stream",
     "text": [
      "2541it [00:01, 1429.20it/s]"
     ]
    },
    {
     "name": "stdout",
     "output_type": "stream",
     "text": [
      "failed downloading  https://static.bgf.org.my/wp-content/uploads/2020/01/Broga-2-1024x683.jpg ...\n",
      "('Connection aborted.', ConnectionResetError(104, 'Connection reset by peer'))\n"
     ]
    },
    {
     "name": "stderr",
     "output_type": "stream",
     "text": [
      "2776it [00:02, 583.88it/s] "
     ]
    },
    {
     "name": "stdout",
     "output_type": "stream",
     "text": [
      "failed downloading  https://highlandcamp.co.id/wp-content/uploads/2020/03/training-development-method.jpg ...\n",
      "('Connection aborted.', ConnectionResetError(104, 'Connection reset by peer'))\n"
     ]
    },
    {
     "name": "stderr",
     "output_type": "stream",
     "text": [
      "2932it [00:03, 460.60it/s]"
     ]
    },
    {
     "name": "stdout",
     "output_type": "stream",
     "text": [
      "failed downloading  https://solvillas.vn/wp-content/uploads/2020/06/80d4a2c10e7af424ad6b-530x313.jpg ...\n",
      "('Connection aborted.', ConnectionResetError(104, 'Connection reset by peer'))\n"
     ]
    },
    {
     "name": "stderr",
     "output_type": "stream",
     "text": [
      "3318it [00:23, 54.83it/s] "
     ]
    },
    {
     "name": "stdout",
     "output_type": "stream",
     "text": [
      "failed downloading  http://cdn1.vietnamtourism.org.vn/images/content/2012-04-26.09.01.22-4.jpg ...\n",
      "HTTPConnectionPool(host='cdn1.vietnamtourism.org.vn', port=80): Read timed out. (read timeout=20)\n",
      "failed downloading  http://chinatownhotel.co.th/wp-content/uploads/2017/10/chinatown_hotel_receptionist-2.jpg ...\n",
      "HTTPConnectionPool(host='chinatownhotel.co.th', port=80): Max retries exceeded with url: /wp-content/uploads/2017/10/chinatown_hotel_receptionist-2.jpg (Caused by NewConnectionError('<urllib3.connection.HTTPConnection object at 0x7f27ad358820>: Failed to establish a new connection: [Errno -2] Name or service not known'))\n",
      "failed downloading  https://alliancerealestate.com.vn/wp-content/uploads/2019/12/0d57da190af4f3aaaae5-554x360-c-center.jpg ...\n",
      "('Connection aborted.', ConnectionResetError(104, 'Connection reset by peer'))\n"
     ]
    },
    {
     "name": "stderr",
     "output_type": "stream",
     "text": [
      "3786it [00:43, 86.35it/s]"
     ]
    },
    {
     "name": "stdout",
     "output_type": "stream",
     "text": [
      "failed downloading  http://cdn1.vietnamtourism.org.vn/images/content/2012-04-26.08.57.05-1.jpg ...\n",
      "HTTPConnectionPool(host='cdn1.vietnamtourism.org.vn', port=80): Read timed out. (read timeout=20)\n"
     ]
    },
    {
     "name": "stderr",
     "output_type": "stream",
     "text": [
      "\n"
     ]
    }
   ],
   "source": [
    "paths = []\n",
    "for idx, (img_url, source) in tqdm(enumerate(zip(df['img_url'], df['source']))):\n",
    "    file_path = f\"IMG-SCRAP_{idx}_{source}_{img_url.split('?')[0].split('/')[-1][-200:]}\"\n",
    "    if '.' not in file_path[-7:]: # If there is no extension, add .jpg extension\n",
    "        file_path = f'{file_path}.jpg'\n",
    "    out_path = f'./gathered_images/{file_path}'\n",
    "\n",
    "    if not os.path.exists(out_path):\n",
    "        try:\n",
    "            response = requests.get(img_url, stream=True, timeout=20, verify=True)\n",
    "            with open(out_path, 'wb') as out_file:\n",
    "                shutil.copyfileobj(response.raw, out_file)\n",
    "            paths.append(out_path)\n",
    "        except Exception as e: \n",
    "            print(f'failed downloading  {img_url} ...')\n",
    "            print(e)\n",
    "            paths.append(None)\n",
    "    else:\n",
    "        paths.append(out_path)"
   ]
  },
  {
   "cell_type": "code",
   "execution_count": 12,
   "id": "1842a048-a7b6-4775-8b0d-4fcbf13f2ed8",
   "metadata": {},
   "outputs": [],
   "source": [
    "df['local_path'] = paths\n",
    "df.loc[~df['local_path'].isna(),:]\n",
    "df.to_csv('filtered_image_meta.csv', index=False)"
   ]
  },
  {
   "cell_type": "code",
   "execution_count": null,
   "id": "b2cddc13-1433-4b14-aa64-acedc39c5e5e",
   "metadata": {},
   "outputs": [],
   "source": []
  }
 ],
 "metadata": {
  "kernelspec": {
   "display_name": "Python (env_instruct_align)",
   "language": "python",
   "name": "env_instruct_align"
  },
  "language_info": {
   "codemirror_mode": {
    "name": "ipython",
    "version": 3
   },
   "file_extension": ".py",
   "mimetype": "text/x-python",
   "name": "python",
   "nbconvert_exporter": "python",
   "pygments_lexer": "ipython3",
   "version": "3.10.4"
  }
 },
 "nbformat": 4,
 "nbformat_minor": 5
}
