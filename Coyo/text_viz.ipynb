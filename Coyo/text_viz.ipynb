{
 "cells": [
  {
   "cell_type": "code",
   "execution_count": 1,
   "id": "672c9fb6-b082-4780-b2c3-78b72af64358",
   "metadata": {
    "tags": []
   },
   "outputs": [],
   "source": [
    "# !pip install distfuse"
   ]
  },
  {
   "cell_type": "code",
   "execution_count": 1,
   "id": "f0efff58-57b5-4cfd-95d4-f705e63e2b40",
   "metadata": {
    "tags": []
   },
   "outputs": [],
   "source": [
    "import os\n",
    "os.environ[\"CUDA_VISIBLE_DEVICES\"] = \"2\"\n",
    "os.environ[\"TRANSFORMERS_CACHE\"]=\"/workspace/cache\"\n",
    "os.environ[\"HF_DATASETS_CACHE\"]=\"/workspace/cache\"\n",
    "os.environ[\"WANDB_DISABLED\"] = \"true\""
   ]
  },
  {
   "cell_type": "code",
   "execution_count": 10,
   "id": "0721d542-4ba2-48e8-9e05-26dcf8595975",
   "metadata": {
    "tags": []
   },
   "outputs": [],
   "source": [
    "import datasets\n",
    "from datasets import load_dataset, Image\n",
    "from distfuse import DistFuse\n",
    "from tqdm import tqdm\n",
    "import numpy as np\n",
    "import pickle"
   ]
  },
  {
   "cell_type": "code",
   "execution_count": 3,
   "id": "9d3d35c3-02e8-40b2-a28e-9f0f13495cc4",
   "metadata": {
    "tags": []
   },
   "outputs": [
    {
     "name": "stderr",
     "output_type": "stream",
     "text": [
      "/root/anaconda3/envs/llava/lib/python3.10/site-packages/torch/_utils.py:831: UserWarning: TypedStorage is deprecated. It will be removed in the future and UntypedStorage will be the only storage class. This should only matter to you if you are using storages directly.  To access UntypedStorage directly, use tensor.untyped_storage() instead of tensor.storage()\n",
      "  return self.fget.__get__(instance, owner)()\n"
     ]
    }
   ],
   "source": [
    "model_checkpoints = [[\"sentence-transformers/LaBSE\", \"hf\"]]\n",
    "weights = [1]\n",
    "dist_measure = \"cosine\" # cosine, euclidean, manhattan\n",
    "model = DistFuse(model_checkpoints, weights, dist_measure=dist_measure, openai_token=\"\", cohere_token=\"\", device=\"cuda:0\")"
   ]
  },
  {
   "cell_type": "markdown",
   "id": "df0e8c0a-3a65-44da-8268-0d75aea36d1c",
   "metadata": {},
   "source": [
    "### Load datasets"
   ]
  },
  {
   "cell_type": "code",
   "execution_count": 48,
   "id": "4323935f-5147-459b-b71a-0483bd6f1a23",
   "metadata": {
    "tags": []
   },
   "outputs": [],
   "source": [
    "with open('/workspace/sea_vl/coyo_filtered_1k.pkl', 'rb') as file:   \n",
    "    # Call load method to deserialze \n",
    "    coyo_dataset = pickle.load(file) "
   ]
  },
  {
   "cell_type": "code",
   "execution_count": 49,
   "id": "bc7a8ea7-06a6-4254-9781-05379dde8700",
   "metadata": {
    "tags": []
   },
   "outputs": [],
   "source": [
    "for k in coyo_dataset.keys():\n",
    "    for idx,data in enumerate(coyo_dataset[k]):\n",
    "        if len(coyo_dataset[k][idx]) == 2:\n",
    "            if len(coyo_dataset[k][idx][0]) > 1:\n",
    "                coyo_dataset[k][idx] = coyo_dataset[k][idx][0]\n",
    "        else:\n",
    "            if len(coyo_dataset[k][idx]) > 1:\n",
    "                coyo_dataset[k][idx] = coyo_dataset[k][idx]"
   ]
  },
  {
   "cell_type": "code",
   "execution_count": 4,
   "id": "f909aef1-1f21-4911-b7fa-a28e8fc197fa",
   "metadata": {
    "tags": []
   },
   "outputs": [],
   "source": [
    "# coyo_dataset = datasets.load_from_disk('/workspace/sea_vl/ALL_DATA_filtered')['text'][:]"
   ]
  },
  {
   "cell_type": "code",
   "execution_count": 6,
   "id": "33c48473-a92c-4a9c-bfbd-e349e7a12e1a",
   "metadata": {
    "tags": []
   },
   "outputs": [],
   "source": [
    "sea_vqa = load_dataset('wit543/sea-vqa')\n",
    "cvqa = load_dataset('afaji/cvqa')['test']"
   ]
  },
  {
   "cell_type": "markdown",
   "id": "c7474fe2-e012-465c-9a3e-52ae2486626b",
   "metadata": {},
   "source": [
    "### Keywords extraction"
   ]
  },
  {
   "cell_type": "code",
   "execution_count": 76,
   "id": "13d3a73b-dd11-4405-88e5-22e3a705254d",
   "metadata": {
    "tags": []
   },
   "outputs": [
    {
     "name": "stderr",
     "output_type": "stream",
     "text": [
      "100%|██████████████████████████████████████████████████████████████████████| 9752/9752 [04:46<00:00, 34.05it/s]\n"
     ]
    }
   ],
   "source": [
    "keywords_cvqa = dict()\n",
    "cvqa_country_question = dict()\n",
    "cvqa_country_translated_question = dict()\n",
    "count = 0\n",
    "for data in tqdm(cvqa):\n",
    "    language, country = [c for c in data['Subset'].split(\"'\") if len(c)>2]\n",
    "    if country not in keywords_cvqa:\n",
    "        cvqa_country_question[country] = [data['Question']]\n",
    "        cvqa_country_translated_question[country] = [data['Translated Question']]\n",
    "        c1, c2, c3, c4 = data['Translated Options']\n",
    "        keywords_cvqa[country] = [language,country,c1, c2, c3, c4]\n",
    "    else:\n",
    "        cvqa_country_question[country].append(data['Question'])\n",
    "        cvqa_country_translated_question[country].append(data['Translated Question'])\n",
    "        keywords_cvqa[country]+=[language,country,c1, c2, c3, c4]"
   ]
  },
  {
   "cell_type": "code",
   "execution_count": 37,
   "id": "d7b658df-f79f-4858-9fac-aabe43b538b4",
   "metadata": {
    "tags": []
   },
   "outputs": [
    {
     "data": {
      "text/plain": [
       "dict_keys(['India', 'Ecuador', 'Spain', 'China', 'Uruguay', 'Indonesia', 'Kenya', 'Mexico', 'France', 'Pakistan', 'Romania', 'Russia', 'Singapore', 'South Korea', 'Mongolia', 'Argentina', 'Sri_Lanka', 'Rwanda', 'Malaysia', 'Nigeria', 'Bulgaria', 'Ireland', 'Ethiopia', 'Norway', 'Brazil', 'Japan', 'Philippines', 'Egypt', 'Colombia', 'Chile'])"
      ]
     },
     "execution_count": 37,
     "metadata": {},
     "output_type": "execute_result"
    }
   ],
   "source": [
    "cvqa_country_question.keys()"
   ]
  },
  {
   "cell_type": "code",
   "execution_count": 41,
   "id": "677a1616-28d3-4f93-beac-9800ce82c6be",
   "metadata": {
    "tags": []
   },
   "outputs": [
    {
     "data": {
      "text/plain": [
       "dict_keys(['vn', 'my', 'sg', 'th', 'mm', 'id', 'la', 'ph', 'kh', 'tl', 'bn'])"
      ]
     },
     "execution_count": 41,
     "metadata": {},
     "output_type": "execute_result"
    }
   ],
   "source": [
    "coyo_dataset.keys()"
   ]
  },
  {
   "cell_type": "markdown",
   "id": "4a4da377-1889-4dd5-aea1-7c205e15d865",
   "metadata": {},
   "source": [
    "### Keyword matching"
   ]
  },
  {
   "cell_type": "code",
   "execution_count": 83,
   "id": "a49d9a48-cc92-4ba6-af9e-ea971ab1afbe",
   "metadata": {
    "tags": []
   },
   "outputs": [],
   "source": [
    "coyo_dataset_full = datasets.load_from_disk('/workspace/sea_vl/ALL_DATA_filtered')"
   ]
  },
  {
   "cell_type": "code",
   "execution_count": 88,
   "id": "359399f9-4cf5-4067-90c9-ad0b5fd7ded1",
   "metadata": {
    "tags": []
   },
   "outputs": [
    {
     "name": "stderr",
     "output_type": "stream",
     "text": [
      "2704068it [11:47, 3821.90it/s]\n"
     ]
    }
   ],
   "source": [
    "coyo_full_cat = dict()\n",
    "for idx,data in tqdm(enumerate(coyo_dataset_full)):\n",
    "    if data['short_url'] not in coyo_full_cat:\n",
    "        coyo_full_cat[data['short_url']] = [data['text']]\n",
    "    else:\n",
    "        coyo_full_cat[data['short_url']].append(data['text'])"
   ]
  },
  {
   "cell_type": "code",
   "execution_count": 107,
   "id": "b3d512cf-cb79-4cec-a7a0-1db3d22ea707",
   "metadata": {
    "tags": []
   },
   "outputs": [
    {
     "name": "stderr",
     "output_type": "stream",
     "text": [
      "100%|██████████████████████████████████████████████████████████████| 287615/287615 [00:01<00:00, 147949.99it/s]\n",
      "100%|██████████████████████████████████████████████████████████████| 582233/582233 [00:01<00:00, 389108.65it/s]\n",
      "100%|██████████████████████████████████████████████████████████████| 658661/658661 [00:02<00:00, 278076.84it/s]\n"
     ]
    }
   ],
   "source": [
    "text_keyword = dict()\n",
    "\n",
    "list_country = [['id','Indonesia'],['my','Malaysia'],['sg','Singapore']]\n",
    "\n",
    "for s_key, t_key in list_country:\n",
    "    \n",
    "    text_keyword[t_key] = []\n",
    "    \n",
    "    all_text_temp = []\n",
    "\n",
    "    source = coyo_full_cat[s_key]\n",
    "    target = list(set(keywords_cvqa[t_key]))\n",
    "\n",
    "    for coyo in tqdm(source):\n",
    "        for keyword in target:\n",
    "            if keyword in coyo:\n",
    "                all_text_temp.append(coyo)\n",
    "                break\n",
    "    text_keyword[t_key] += list(set(all_text_temp))"
   ]
  },
  {
   "cell_type": "code",
   "execution_count": 110,
   "id": "a1608329-ce93-4c0f-8742-4af4ef975146",
   "metadata": {
    "tags": []
   },
   "outputs": [
    {
     "data": {
      "text/plain": [
       "['Know What Examples Of Unit Trust Companies In Malaysia And The Fund Names Itguy My',\n",
       " 'Yingfa Y2000AF(M)-02 Mirrored Goggles | YingFa Ventures Malaysia',\n",
       " 'PN10 and PN16 PP-R Pipes offered by PPR Pipe Fittings Malaysia',\n",
       " 'Elderly Indian Malaysian husband and wife couple smiling and sitting close to each other',\n",
       " '7 Things you didn’t know about Malaysian actor Ashraf Sinclair']"
      ]
     },
     "execution_count": 110,
     "metadata": {},
     "output_type": "execute_result"
    }
   ],
   "source": [
    "text_keyword['Malaysia'][:5]"
   ]
  },
  {
   "cell_type": "code",
   "execution_count": 111,
   "id": "7425a695-b8c5-4153-b578-429bb8e85439",
   "metadata": {
    "tags": []
   },
   "outputs": [
    {
     "data": {
      "text/plain": [
       "['FILE - In this Oct. 26, 2010 file photo, a worker rides a bicycle in front of the reactor building of the Bushehr nuclear power plant, just outside the southern city of Bushehr. Iran’s sole nuclear power plant has undergone a temporary emergency shutdown, state TV reported on Sunday, June 20, 2021. An official from the state electric energy company, Gholamali Rakhshanimehr, said on a talk show that the Bushehr plant shutdown began on Saturday and would last',\n",
       " 'Indonesia Bali Villa Vacation Rentals In Canggu With Jacuzzi And Staff',\n",
       " 'Sugar Made From Selected Cane, Processed With High Quality Technology Gunung Madu Sugar Premium Plantations Is Premium Quality Local Sugar. The Quality Of Sugar Is Routinely Tested And Certified By The Indonesian Sugar Plantation Research Center As A Lab',\n",
       " 'Xxnamexx Mean In Indonesia Twitter',\n",
       " 'Tuesday I’m (not) in the mood 😴 . . . . . #instadaily #livethelittlethings #abmhappylife #petitejoys #thatsdarling #darlingmovement #pursuepretty #thehappynow #theeverydayproject #flashesofdelight #lifestyleblogger #lifestyleblog #thegirlgang #stylediaries #wiw #currentlywearing #ggrep #ootd #ootdid #fashionbloggerindonesia #ootdindonesia #whatiwear #whatiwore #ootdmagazine #outfit #clozetteid']"
      ]
     },
     "execution_count": 111,
     "metadata": {},
     "output_type": "execute_result"
    }
   ],
   "source": [
    "text_keyword['Indonesia'][:5]"
   ]
  },
  {
   "cell_type": "code",
   "execution_count": 112,
   "id": "13cfef06-c531-4694-9cb0-a29cf26d2b95",
   "metadata": {
    "tags": []
   },
   "outputs": [
    {
     "data": {
      "text/plain": [
       "['Thirty-nine members of the Operation Lionheart contingent from the Singapore Civil Defence Force (SCDF), tasked with rescue efforts in quake-struck Padang in Indonesia, returned home on Oct 8, 2009. The SCDF will be be adding more men to Operation Li',\n",
       " 'Chinese Sausages & Liver Sausages',\n",
       " 'Forest Family Walk Singapore',\n",
       " 'front sign of the ACRA entity which regulates accounting firms in Singapore',\n",
       " \"Team Micromax Indian Aces' Ana Ivanovic (centre) of Serbia celebrates with teammates Sania Mirza (left) and Rohan Bopanna of India after their mixed doubles match against UAE Royals at the International Premier Tennis League (IPTL) in Singapore on De\"]"
      ]
     },
     "execution_count": 112,
     "metadata": {},
     "output_type": "execute_result"
    }
   ],
   "source": [
    "text_keyword['Singapore'][:5]"
   ]
  },
  {
   "cell_type": "markdown",
   "id": "9f1369b3-a53e-4b0f-9458-b6466305e102",
   "metadata": {},
   "source": [
    "### Semantic Search"
   ]
  },
  {
   "cell_type": "code",
   "execution_count": 113,
   "id": "b1afc17d-2eb3-48d3-be6d-330296eb360a",
   "metadata": {
    "tags": []
   },
   "outputs": [],
   "source": [
    "top_k = 5"
   ]
  },
  {
   "cell_type": "code",
   "execution_count": 124,
   "id": "8f9dc171-4187-44e3-b708-04ee2a36c91d",
   "metadata": {
    "tags": []
   },
   "outputs": [],
   "source": [
    "source = coyo_full_cat['my']\n",
    "target = list(set(cvqa_country_translated_question['Malaysia']))"
   ]
  },
  {
   "cell_type": "code",
   "execution_count": 125,
   "id": "7ea010f2-11b1-4491-9aa3-9b5e163d9e5e",
   "metadata": {
    "tags": []
   },
   "outputs": [],
   "source": [
    "# CVQA\n",
    "scores = model.score_pairs(source, target)"
   ]
  },
  {
   "cell_type": "code",
   "execution_count": 126,
   "id": "d026e77d-24f9-40d3-859a-165a34e9f98c",
   "metadata": {
    "tags": []
   },
   "outputs": [
    {
     "name": "stdout",
     "output_type": "stream",
     "text": [
      "Text:Picture of VD069 - 36 Roses\n",
      "Candidate:What is the name of flowers in the picture? score:0.4186636805534363\n",
      "Candidate:What is the name of the flower in this picture? score:0.41344958543777466\n",
      "Candidate:What is the name of the red fruit in this picture? score:0.38335657119750977\n",
      "Candidate:What is the name of the yellow fruit in the picture? score:0.3673686981201172\n",
      "Candidate:What is the occasion shown in this picture? score:0.3591980040073395\n",
      "****************************************************************************************************\n",
      "Text:Dell Swapable CD Drive DP/N HK718\n",
      "Candidate:What is the main ingredients of the food/drink? score:0.18801964819431305\n",
      "Candidate:The driver is travelling interstate to go home from Kuala Lumpur, which highway is he currently driving on? score:0.16853848099708557\n",
      "Candidate:What religious festival is held here every year? score:0.16348205506801605\n",
      "Candidate:In which island is the picture taken? score:0.15909041464328766\n",
      "Candidate:When are the dishes usually served -- breakfast, lunch or dinner? score:0.15422508120536804\n",
      "****************************************************************************************************\n",
      "Text:Onwards - Tom & Jerry Travel Pack<br/> 10 packs x 50 sheets x 3ply\n",
      "Candidate:What is inside the red packets? score:0.25768351554870605\n",
      "Candidate:What is inside the leaves? score:0.224513441324234\n",
      "Candidate:During which festival do children receive the red packets? score:0.22016769647598267\n",
      "Candidate:When are the dishes usually served -- breakfast, lunch or dinner? score:0.21795544028282166\n",
      "Candidate:Why do parents bring their children to the store before school starts? score:0.21319040656089783\n",
      "****************************************************************************************************\n",
      "Text:Style it with: A pair of boots for a tinge of edginess\n",
      "Candidate:How many of this object is worn in a single traditional attire? score:0.2534579336643219\n",
      "Candidate:What tribe uses this clothing for ceremonial purpose? score:0.24781706929206848\n",
      "Candidate:What state in Malaysia is applying for Unesco recognition with this dance? score:0.23784998059272766\n",
      "Candidate:Apart from spicy, what is the distinct taste of this dish? score:0.202598437666893\n",
      "Candidate:What is added to the rice while cooking to make it taste richer? score:0.20191070437431335\n",
      "****************************************************************************************************\n",
      "Text:Nathan Moore Chief Legal Officer and Secretary\n",
      "Candidate:What job does he specialize in and is best known for in the entertainment industry? score:0.2850295901298523\n",
      "Candidate:Apakah nama ikan dalam hidangan itu? score:0.2794296145439148\n",
      "Candidate:What role is she best known for? score:0.2749851644039154\n",
      "Candidate:What is the main ingredients of the food/drink? score:0.2618803083896637\n",
      "Candidate:What is the main material that the object is made of? score:0.26186811923980713\n",
      "****************************************************************************************************\n",
      "Text:Day eyeing success after turning to Woods' former caddie\n",
      "Candidate:In which year did the athlete earn the title Datuk? score:0.21622756123542786\n",
      "Candidate:In which year did the person earn the title Datuk? score:0.20367208123207092\n",
      "Candidate:In which year did the athlete receive the title Dato? score:0.19194695353507996\n",
      "Candidate:Which film did she play and win Oscar with? score:0.1268906593322754\n",
      "Candidate:What is the name of the fruit growing on the tree? score:0.11734159290790558\n",
      "****************************************************************************************************\n",
      "Text:Huawei Honor Band 4 Running Version Smart Wristband Fitness Tracker\n",
      "Candidate:What is being worn in the lower part of his body? score:0.16651035845279694\n",
      "Candidate:What is the brand of this bag? score:0.15215331315994263\n",
      "Candidate:What is being worn on his head? score:0.15023992955684662\n",
      "Candidate:Which sport did the Malaysian athlete participate in XIX Commonwealth Games? score:0.14828182756900787\n",
      "Candidate:What is being worn by the male child that is purple in colour? score:0.1460457295179367\n",
      "****************************************************************************************************\n",
      "Text:shoe cabinet area with a textured painted wall. Project was done by R.Works in Southville City\n",
      "Candidate:Which country influenced the design of the red building in the picture? score:0.34508639574050903\n",
      "Candidate:In what type of building is the picture taken? score:0.2506798803806305\n",
      "Candidate:What building is underneath the twin towers which the souvenir is based on? score:0.2440117597579956\n",
      "Candidate:In which Malaysian city this building is located? score:0.22199338674545288\n",
      "Candidate:Which building in Malaysia was named after the company? score:0.21355965733528137\n",
      "****************************************************************************************************\n",
      "Text:Mega Bloks 150 Piece Let's Get Learning Themed Playset\n",
      "Candidate:Which Malaysian cultural race does the food originate from? score:0.18849650025367737\n",
      "Candidate:Why do parents bring their children to the store before school starts? score:0.18834109604358673\n",
      "Candidate:Which part of Malaysian culture do these traditional cakes belong to? score:0.18809650838375092\n",
      "Candidate:What is the type of Malaysian martial art that uses this object? score:0.18790195882320404\n",
      "Candidate:What is the main ingredients of the food that gives a special fragrance? score:0.17829403281211853\n",
      "****************************************************************************************************\n",
      "Text:Proton Inspira 2010-2015 OEM Cabin Air Cond Filter\n",
      "Candidate:What is the original purpose of the building before getting abandoned? score:0.23295187950134277\n",
      "Candidate:Among motifs of flowers, butterflies, birds, and rivers, what elements are not used in the design of the clothing? score:0.2084842175245285\n",
      "Candidate:What is the model of the car? score:0.2024461030960083\n",
      "Candidate:Why do parents bring their children to the store before school starts? score:0.19736497104167938\n",
      "Candidate:Which of cooking oil, tire, perfume and fuel is not a product of the material extracted from this plantation? score:0.19167286157608032\n",
      "****************************************************************************************************\n"
     ]
    }
   ],
   "source": [
    "for idx,text in enumerate(source[:10]):\n",
    "    sorted_index = np.argsort(scores[idx])[::-1]\n",
    "    print(f\"Text:{text}\")\n",
    "    for rank, cand_idx in enumerate(sorted_index[:top_k]):\n",
    "        print(f\"Candidate:{target[cand_idx]} score:{scores[idx][cand_idx]}\")\n",
    "    print(\"*\"*100)"
   ]
  },
  {
   "cell_type": "code",
   "execution_count": 119,
   "id": "1602bc74-f9c0-4b07-87f2-b3619c047535",
   "metadata": {
    "tags": []
   },
   "outputs": [],
   "source": [
    "source = text_keyword['Malaysia']\n",
    "target = list(set(cvqa_country_translated_question['Malaysia']))"
   ]
  },
  {
   "cell_type": "code",
   "execution_count": 120,
   "id": "6fb36351-9cff-431a-92df-2b139e4440c3",
   "metadata": {
    "tags": []
   },
   "outputs": [],
   "source": [
    "# CVQA\n",
    "scores = model.score_pairs(source, target)"
   ]
  },
  {
   "cell_type": "code",
   "execution_count": 121,
   "id": "51006f3c-aeff-4c55-99b9-a5b1a187ee45",
   "metadata": {
    "tags": []
   },
   "outputs": [
    {
     "name": "stdout",
     "output_type": "stream",
     "text": [
      "Text:Know What Examples Of Unit Trust Companies In Malaysia And The Fund Names Itguy My\n",
      "Candidate:Which building in Malaysia was named after the company? score:0.4393165409564972\n",
      "Candidate:What is the name of Malaysian company that manufactures this car? score:0.392717182636261\n",
      "Candidate:Most of similar houses can be found in which Malaysian state? score:0.38196417689323425\n",
      "Candidate:What is the name of the red packets in Malaysia? score:0.35543930530548096\n",
      "Candidate:In which of Phillipines, Malaysia, Thailand and Laos that the company does not operate? score:0.3463084101676941\n",
      "****************************************************************************************************\n",
      "Text:Yingfa Y2000AF(M)-02 Mirrored Goggles | YingFa Ventures Malaysia\n",
      "Candidate:What is his role in Malaysia between year 2018 and 2020? score:0.18481595814228058\n",
      "Candidate:In which of Indonesia, Malysia, Philippines and Vietnam where the weapon is not found? score:0.1646127551794052\n",
      "Candidate:What is his role in Malaysia between year 2022 and 2023? score:0.13663804531097412\n",
      "Candidate:What is being worn on the head by the mothers in the picture? score:0.1265149563550949\n",
      "Candidate:What is the natural habitat of the animals in Malaysia? score:0.12179603427648544\n",
      "****************************************************************************************************\n",
      "Text:PN10 and PN16 PP-R Pipes offered by PPR Pipe Fittings Malaysia\n",
      "Candidate:What is the name of the red packets in Malaysia? score:0.27129989862442017\n",
      "Candidate:What is his role in Malaysia between year 2018 and 2020? score:0.24680820107460022\n",
      "Candidate:What sports does he represent Malaysia for? score:0.22552752494812012\n",
      "Candidate:What service is provided by the company? score:0.22416070103645325\n",
      "Candidate:What food is the person selling? score:0.22361525893211365\n",
      "****************************************************************************************************\n",
      "Text:Elderly Indian Malaysian husband and wife couple smiling and sitting close to each other\n",
      "Candidate:People of which Malaysian race live in this type of houses? score:0.43167316913604736\n",
      "Candidate:What is the name of Malaysian company that manufactures this car? score:0.4177645146846771\n",
      "Candidate:Which Malaysian state is the tallest building in the picture located? score:0.41522693634033203\n",
      "Candidate:Who is the Malaysian athlete in the picture? score:0.38626837730407715\n",
      "Candidate:Most of similar houses can be found in which Malaysian state? score:0.38304853439331055\n",
      "****************************************************************************************************\n",
      "Text:7 Things you didn’t know about Malaysian actor Ashraf Sinclair\n",
      "Candidate:What sports does the athlete represent Malaysia for? score:0.3301470875740051\n",
      "Candidate:Which sport that the person in the picture is known for playing? score:0.32894599437713623\n",
      "Candidate:Who is the Malaysian athlete in the picture? score:0.32662415504455566\n",
      "Candidate: In which country did the singer have an international breakthrough in her musical career outside of Malaysia? score:0.32661277055740356\n",
      "Candidate:Which sport did the Malaysian athlete participate in XIX Commonwealth Games? score:0.30301499366760254\n",
      "****************************************************************************************************\n",
      "Text:Picture of Pepkoo Drop Proof Protection Case for iPad Mini 4 - Blue Apple iPad Mini 4- Apple iPad Mini 4 Cases, Apple iPad Mini 4 Covers, iPad Cases and a wide selection of Apple iPad Mini 4 Accessories in Malaysia, Sabah, Sarawak and Singapore\n",
      "Candidate:What is inside the red packets? score:0.29660776257514954\n",
      "Candidate:What is his role in Malaysia between year 2018 and 2020? score:0.28170499205589294\n",
      "Candidate:Which of the ingredients is not in the food? Pineapple, tapioca flour, coconut cream or pandan? score:0.2796301245689392\n",
      "Candidate:What's most likely in the box? score:0.27727583050727844\n",
      "Candidate:What is the name of the red packets in Malaysia? score:0.26934853196144104\n",
      "****************************************************************************************************\n",
      "Text:income tax for foreigners working in Malaysia\n",
      "Candidate:People of which Malaysian race live in this type of houses? score:0.447431743144989\n",
      "Candidate:What is the natural habitat of the animals in Malaysia? score:0.38345447182655334\n",
      "Candidate:What race in Malaysia does this originate? score:0.3669535219669342\n",
      "Candidate:Which ethnic group introduces this dance to Malaysia?  score:0.3651636838912964\n",
      "Candidate:What culture in Malaysia does this dish belong to? score:0.35991767048835754\n",
      "****************************************************************************************************\n",
      "Text:Image of: Reggae Bob Marley Tapestry College Dorm Room Wall Hanging Decor Macrame Sofa Towel Home Decoration Blanket Carpet Shopee Malaysia\n",
      "Candidate:Most of similar houses can be found in which Malaysian state? score:0.3448004424571991\n",
      "Candidate:Which Malaysian culture is the style of the house based on? score:0.3264492452144623\n",
      "Candidate:Which Malaysian state is the temple located?  score:0.3179051876068115\n",
      "Candidate:Which Malaysian state is the tallest building in the picture located? score:0.31718742847442627\n",
      "Candidate:What culture in Malaysia does this dish belong to? score:0.3035837411880493\n",
      "****************************************************************************************************\n",
      "Text:Unicorn Cutter Blades 9mm BD100 (pack of 3 tubes\n",
      "Candidate:Apakah nama ikan dalam hidangan itu? score:0.123952716588974\n",
      "Candidate:How many holes are there in this game? score:0.12178541719913483\n",
      "Candidate:What is the maximum number of members per team in this game? score:0.118711918592453\n",
      "Candidate:What is the number of players on a team? score:0.1142657995223999\n",
      "Candidate:What is inside the leaves? score:0.10042240470647812\n",
      "****************************************************************************************************\n",
      "Text:Picture of Hoda Anti-Smudge Clear Screen Protector (PET) for HUAWEI Watch GT 42mm 2pcs HUAWEI Watch GT 42mm- HUAWEI Watch GT 42mm Cases, HUAWEI Watch GT 42mm Covers, iPad Cases and a wide selection of HUAWEI Watch GT 42mm Accessories in Malaysia, Sabah, Sarawak and Singapore\n",
      "Candidate:What is his role in Malaysia between year 2018 and 2020? score:0.2754870355129242\n",
      "Candidate:What is inside the red packets? score:0.2662460505962372\n",
      "Candidate:What is his role in Malaysia between year 2022 and 2023? score:0.2645259201526642\n",
      "Candidate:In which Malaysian state is this picture taken? score:0.2564031183719635\n",
      "Candidate:What is the dish (in yellow) serve with? score:0.2556746006011963\n",
      "****************************************************************************************************\n"
     ]
    }
   ],
   "source": [
    "for idx,text in enumerate(source[:10]):\n",
    "    sorted_index = np.argsort(scores[idx])[::-1]\n",
    "    print(f\"Text:{text}\")\n",
    "    for rank, cand_idx in enumerate(sorted_index[:top_k]):\n",
    "        print(f\"Candidate:{target[cand_idx]} score:{scores[idx][cand_idx]}\")\n",
    "    print(\"*\"*100)"
   ]
  },
  {
   "cell_type": "code",
   "execution_count": null,
   "id": "e4e2b0bd-a27a-46dd-b40a-c3ad1abc58f3",
   "metadata": {},
   "outputs": [],
   "source": []
  }
 ],
 "metadata": {
  "kernelspec": {
   "display_name": "Python 3 (ipykernel)",
   "language": "python",
   "name": "python3"
  },
  "language_info": {
   "codemirror_mode": {
    "name": "ipython",
    "version": 3
   },
   "file_extension": ".py",
   "mimetype": "text/x-python",
   "name": "python",
   "nbconvert_exporter": "python",
   "pygments_lexer": "ipython3",
   "version": "3.10.14"
  }
 },
 "nbformat": 4,
 "nbformat_minor": 5
}
