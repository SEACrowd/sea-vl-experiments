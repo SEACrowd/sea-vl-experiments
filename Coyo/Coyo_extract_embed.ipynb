{
 "cells": [
  {
   "cell_type": "code",
   "execution_count": 1,
   "id": "080b60ce-d66e-48a4-8600-fbe563e0579f",
   "metadata": {
    "tags": []
   },
   "outputs": [
    {
     "name": "stderr",
     "output_type": "stream",
     "text": [
      "/root/anaconda3/envs/llava/lib/python3.10/site-packages/transformers/utils/hub.py:123: FutureWarning: Using `TRANSFORMERS_CACHE` is deprecated and will be removed in v5 of Transformers. Use `HF_HOME` instead.\n",
      "  warnings.warn(\n"
     ]
    }
   ],
   "source": [
    "import os, sys\n",
    "os.environ['CUDA_VISIBLE_DEVICES'] = '1'\n",
    "os.environ[\"TRANSFORMERS_CACHE\"]=\"/workspace/cache\"\n",
    "os.environ[\"HF_DATASETS_CACHE\"]=\"/workspace/cache\" \n",
    "\n",
    "import pandas as pd\n",
    "import numpy as np\n",
    "\n",
    "import datasets\n",
    "from datasets import load_dataset\n",
    "import datasets\n",
    "from sentence_transformers import SentenceTransformer\n",
    "from torch.utils.data import DataLoader\n",
    "import torch\n",
    "\n",
    "import os\n",
    "import requests\n",
    "from tqdm import tqdm\n",
    "import pickle \n",
    "from PIL import Image\n",
    "from PIL import ImageFile                                                      \n",
    "ImageFile.LOAD_TRUNCATED_IMAGES = True\n",
    "\n",
    "from glob import glob\n",
    "import time"
   ]
  },
  {
   "cell_type": "code",
   "execution_count": 2,
   "id": "39e5f669-1ce9-459d-bd46-356a3ce5f828",
   "metadata": {
    "tags": []
   },
   "outputs": [],
   "source": [
    "dset = datasets.load_from_disk(\"/workspace/sea_vl/ALL_DATA_filtered\")"
   ]
  },
  {
   "cell_type": "code",
   "execution_count": 3,
   "id": "acc33bf4-73d2-4aae-9c9a-7b691aeb91d3",
   "metadata": {
    "tags": []
   },
   "outputs": [
    {
     "name": "stderr",
     "output_type": "stream",
     "text": [
      "/root/anaconda3/envs/llava/lib/python3.10/site-packages/torch/_utils.py:831: UserWarning: TypedStorage is deprecated. It will be removed in the future and UntypedStorage will be the only storage class. This should only matter to you if you are using storages directly.  To access UntypedStorage directly, use tensor.untyped_storage() instead of tensor.storage()\n",
      "  return self.fget.__get__(instance, owner)()\n"
     ]
    }
   ],
   "source": [
    "model = SentenceTransformer(\"sentence-transformers/clip-ViT-B-32\").to('cuda')"
   ]
  },
  {
   "cell_type": "code",
   "execution_count": 6,
   "id": "1abdb9ee-b8cc-4b39-8b1b-72af5e087546",
   "metadata": {
    "tags": []
   },
   "outputs": [],
   "source": [
    "sea_vqa_dataset = load_dataset('wit543/sea-vqa')"
   ]
  },
  {
   "cell_type": "code",
   "execution_count": 4,
   "id": "573d7da3-826a-48dd-9d9b-1e07ccc848d9",
   "metadata": {
    "tags": []
   },
   "outputs": [
    {
     "data": {
      "application/vnd.jupyter.widget-view+json": {
       "model_id": "2b9285279f3b4572a3de54d7b2b83fea",
       "version_major": 2,
       "version_minor": 0
      },
      "text/plain": [
       "Filter (num_proc=32):   0%|          | 0/10374 [00:00<?, ? examples/s]"
      ]
     },
     "metadata": {},
     "output_type": "display_data"
    }
   ],
   "source": [
    "cvqa_dataset = load_dataset('afaji/cvqa')\n",
    "\n",
    "cvqa_sea_subsets = [\n",
    "    \"('Indonesian', 'Indonesia')\",\n",
    "    \"('Malay', 'Malaysia')\",\n",
    "    \"('Javanese', 'Indonesia')\",\n",
    "    \"('Minangkabau', 'Indonesia')\",\n",
    "    \"('Sundanese', 'Indonesia')\",\n",
    "    \"('Chinese', 'Singapore')\"\n",
    "]\n",
    "cvqa_dataset_filt = cvqa_dataset['test'].filter(lambda x: str(x['Subset']) in cvqa_sea_subsets, num_proc=32)"
   ]
  },
  {
   "cell_type": "markdown",
   "id": "f9d0dc89-75e4-4fe3-bb36-58161f1be10b",
   "metadata": {},
   "source": [
    "# Extract SEA-VQA"
   ]
  },
  {
   "cell_type": "code",
   "execution_count": 7,
   "id": "16ea6c29-58bd-4057-a366-e31950b1a9bf",
   "metadata": {
    "tags": []
   },
   "outputs": [
    {
     "name": "stderr",
     "output_type": "stream",
     "text": [
      "100%|████████████████████████████████████████████████████████████████████████| 304/304 [08:12<00:00,  1.62s/it]\n",
      "100%|████████████████████████████████████████████████████████████████████████| 752/752 [19:33<00:00,  1.56s/it]\n",
      "100%|██████████████████████████████████████████████████████████████████████████| 72/72 [01:38<00:00,  1.37s/it]\n",
      "100%|████████████████████████████████████████████████████████████████████████| 189/189 [04:11<00:00,  1.33s/it]\n",
      "100%|████████████████████████████████████████████████████████████████████████| 153/153 [03:46<00:00,  1.48s/it]\n",
      "100%|██████████████████████████████████████████████████████████████████████████| 32/32 [00:41<00:00,  1.28s/it]\n",
      "100%|████████████████████████████████████████████████████████████████████████| 184/184 [04:03<00:00,  1.32s/it]\n",
      "100%|████████████████████████████████████████████████████████████████████████| 313/313 [09:07<00:00,  1.75s/it]\n"
     ]
    }
   ],
   "source": [
    "sea_vqa_images_filt = []\n",
    "sea_vqa_images_embed = []\n",
    "sea_vqa_caption = []\n",
    "sea_vqa_culture = []\n",
    "for key in sea_vqa_dataset.keys():\n",
    "    for row in tqdm(sea_vqa_dataset[key]):\n",
    "        try:\n",
    "            img_opened = Image.open(requests.get(row['image_path'], stream=True).raw)\n",
    "            sea_vqa_images_embed.append(model.encode(img_opened))\n",
    "            sea_vqa_images_filt.append(img_opened)\n",
    "            if row['correct_answer'] in ['a', 'b', 'c', 'd']:\n",
    "                sea_vqa_caption.append(row['question'] + \" \" + row['choice_' + row['correct_answer']])\n",
    "            else:\n",
    "                sea_vqa_caption.append(row['question'])\n",
    "            sea_vqa_culture.append(key)\n",
    "        except:\n",
    "            print(row)\n",
    "pickle.dump((sea_vqa_images_filt, sea_vqa_images_embed, sea_vqa_caption, sea_vqa_culture), open('sea_vqa.pkl', 'wb'))"
   ]
  },
  {
   "cell_type": "code",
   "execution_count": 8,
   "id": "1eccc2dc-4f2f-4023-8ddb-f51c3bb074ec",
   "metadata": {
    "tags": []
   },
   "outputs": [],
   "source": [
    "(sea_vqa_images_filt, sea_vqa_images_embed, sea_vqa_caption, sea_vqa_culture) = pickle.load(open('sea_vqa.pkl', 'rb'))"
   ]
  },
  {
   "cell_type": "code",
   "execution_count": 9,
   "id": "8106776d-7ec2-4fc1-9016-1d7ee43743ee",
   "metadata": {
    "tags": []
   },
   "outputs": [
    {
     "data": {
      "text/plain": [
       "(1999, 1999, 1999, 1999)"
      ]
     },
     "execution_count": 9,
     "metadata": {},
     "output_type": "execute_result"
    }
   ],
   "source": [
    "len(sea_vqa_images_filt), len(sea_vqa_images_embed), len(sea_vqa_caption), len(sea_vqa_culture)"
   ]
  },
  {
   "cell_type": "markdown",
   "id": "c85083da-56f4-4884-8d28-4ce0846bacd2",
   "metadata": {},
   "source": [
    "# Extract CVQA"
   ]
  },
  {
   "cell_type": "code",
   "execution_count": 10,
   "id": "f2fec373-0261-4571-93c0-bd3b1b11b1b9",
   "metadata": {
    "tags": []
   },
   "outputs": [
    {
     "name": "stderr",
     "output_type": "stream",
     "text": [
      "100%|██████████████████████████████████████████████████████████████████████| 1687/1687 [04:07<00:00,  6.83it/s]\n"
     ]
    }
   ],
   "source": [
    "cvqa_images_filt = []\n",
    "cvqa_images_embed = []\n",
    "cvqa_caption = []\n",
    "cvqa_culture = []\n",
    "for row in tqdm(cvqa_dataset_filt):\n",
    "    try:\n",
    "        cvqa_images_embed.append(model.encode(row['image']))\n",
    "        cvqa_images_filt.append(row['image'])\n",
    "        cvqa_caption.append(row['Translated Question'] + \" \" + ', '.join(row['Translated Options']))\n",
    "        cvqa_culture.append(eval(row['Subset'])[0])\n",
    "    except:\n",
    "        print(row)\n",
    "pickle.dump((cvqa_images_filt, cvqa_images_embed, cvqa_caption, cvqa_culture), open('cvqa.pkl', 'wb'))"
   ]
  },
  {
   "cell_type": "code",
   "execution_count": 11,
   "id": "bb619237-aa02-4a45-b26a-fe8f1c53e4ee",
   "metadata": {
    "tags": []
   },
   "outputs": [],
   "source": [
    "pickle.dump((cvqa_images_filt, cvqa_images_embed, cvqa_caption, cvqa_culture), open('cvqa.pkl', 'wb'))"
   ]
  },
  {
   "cell_type": "code",
   "execution_count": 12,
   "id": "ae211547-7b42-42f7-b892-e0351d6f5d1d",
   "metadata": {
    "tags": []
   },
   "outputs": [
    {
     "name": "stderr",
     "output_type": "stream",
     "text": [
      "100%|████████████████████████████████████████████████████████████████████| 10374/10374 [21:25<00:00,  8.07it/s]\n"
     ]
    }
   ],
   "source": [
    "cvqa_images_embed = []\n",
    "cvqa_caption = []\n",
    "cvqa_culture = []\n",
    "cvqa_category = []\n",
    "for row in tqdm(cvqa_dataset['test']):\n",
    "    try:\n",
    "        cvqa_images_embed.append(model.encode(row['image']))\n",
    "        cvqa_caption.append(row['Translated Question'] + \" \" + ', '.join(row['Translated Options']))\n",
    "        cvqa_culture.append(eval(row['Subset'])[0])\n",
    "        cvqa_category.append(row['Category'])\n",
    "    except:\n",
    "        print(row)\n",
    "pickle.dump((cvqa_images_embed, cvqa_caption, cvqa_culture, cvqa_category), open('cvqa_category_all.pkl', 'wb'))"
   ]
  },
  {
   "cell_type": "markdown",
   "id": "ee7970c5-acf4-44c4-81f1-3a91da388d4d",
   "metadata": {},
   "source": [
    "# Extract Coyo"
   ]
  },
  {
   "cell_type": "code",
   "execution_count": null,
   "id": "403bf56e-28bc-410a-bb5f-b9a9bb7a3b1d",
   "metadata": {
    "tags": []
   },
   "outputs": [
    {
     "name": "stderr",
     "output_type": "stream",
     "text": [
      "0it [00:00, ?it/s]/root/anaconda3/envs/llava/lib/python3.10/site-packages/PIL/Image.py:1056: UserWarning: Palette images with Transparency expressed in bytes should be converted to RGBA images\n",
      "  warnings.warn(\n",
      "/root/anaconda3/envs/llava/lib/python3.10/site-packages/PIL/Image.py:1056: UserWarning: Palette images with Transparency expressed in bytes should be converted to RGBA images\n",
      "  warnings.warn(\n",
      "/root/anaconda3/envs/llava/lib/python3.10/site-packages/PIL/Image.py:1056: UserWarning: Palette images with Transparency expressed in bytes should be converted to RGBA images\n",
      "  warnings.warn(\n",
      "/root/anaconda3/envs/llava/lib/python3.10/site-packages/PIL/Image.py:1056: UserWarning: Palette images with Transparency expressed in bytes should be converted to RGBA images\n",
      "  warnings.warn(\n",
      "/root/anaconda3/envs/llava/lib/python3.10/site-packages/PIL/Image.py:1056: UserWarning: Palette images with Transparency expressed in bytes should be converted to RGBA images\n",
      "  warnings.warn(\n",
      "/root/anaconda3/envs/llava/lib/python3.10/site-packages/PIL/Image.py:1056: UserWarning: Palette images with Transparency expressed in bytes should be converted to RGBA images\n",
      "  warnings.warn(\n",
      "/root/anaconda3/envs/llava/lib/python3.10/site-packages/PIL/Image.py:1056: UserWarning: Palette images with Transparency expressed in bytes should be converted to RGBA images\n",
      "  warnings.warn(\n",
      "/root/anaconda3/envs/llava/lib/python3.10/site-packages/PIL/Image.py:1056: UserWarning: Palette images with Transparency expressed in bytes should be converted to RGBA images\n",
      "  warnings.warn(\n",
      "/root/anaconda3/envs/llava/lib/python3.10/site-packages/PIL/Image.py:1056: UserWarning: Palette images with Transparency expressed in bytes should be converted to RGBA images\n",
      "  warnings.warn(\n",
      "/root/anaconda3/envs/llava/lib/python3.10/site-packages/PIL/Image.py:1056: UserWarning: Palette images with Transparency expressed in bytes should be converted to RGBA images\n",
      "  warnings.warn(\n",
      "/root/anaconda3/envs/llava/lib/python3.10/site-packages/PIL/Image.py:1056: UserWarning: Palette images with Transparency expressed in bytes should be converted to RGBA images\n",
      "  warnings.warn(\n",
      "/root/anaconda3/envs/llava/lib/python3.10/site-packages/PIL/Image.py:1056: UserWarning: Palette images with Transparency expressed in bytes should be converted to RGBA images\n",
      "  warnings.warn(\n",
      "/root/anaconda3/envs/llava/lib/python3.10/site-packages/PIL/Image.py:1056: UserWarning: Palette images with Transparency expressed in bytes should be converted to RGBA images\n",
      "  warnings.warn(\n",
      "/root/anaconda3/envs/llava/lib/python3.10/site-packages/PIL/Image.py:1056: UserWarning: Palette images with Transparency expressed in bytes should be converted to RGBA images\n",
      "  warnings.warn(\n",
      "13it [01:39,  1.85s/it]/root/anaconda3/envs/llava/lib/python3.10/site-packages/PIL/Image.py:1056: UserWarning: Palette images with Transparency expressed in bytes should be converted to RGBA images\n",
      "  warnings.warn(\n",
      "16it [01:41,  1.11s/it]/root/anaconda3/envs/llava/lib/python3.10/site-packages/PIL/Image.py:1056: UserWarning: Palette images with Transparency expressed in bytes should be converted to RGBA images\n",
      "  warnings.warn(\n",
      "22it [01:49,  1.13s/it]/root/anaconda3/envs/llava/lib/python3.10/site-packages/PIL/Image.py:1056: UserWarning: Palette images with Transparency expressed in bytes should be converted to RGBA images\n",
      "  warnings.warn(\n",
      "25it [01:51,  1.22it/s]/root/anaconda3/envs/llava/lib/python3.10/site-packages/PIL/Image.py:1056: UserWarning: Palette images with Transparency expressed in bytes should be converted to RGBA images\n",
      "  warnings.warn(\n",
      "28it [01:53,  1.34it/s]/root/anaconda3/envs/llava/lib/python3.10/site-packages/PIL/Image.py:1056: UserWarning: Palette images with Transparency expressed in bytes should be converted to RGBA images\n",
      "  warnings.warn(\n",
      "58it [02:15,  1.55it/s]/root/anaconda3/envs/llava/lib/python3.10/site-packages/PIL/Image.py:1056: UserWarning: Palette images with Transparency expressed in bytes should be converted to RGBA images\n",
      "  warnings.warn(\n",
      "66it [02:22,  1.29it/s]/root/anaconda3/envs/llava/lib/python3.10/site-packages/PIL/Image.py:1056: UserWarning: Palette images with Transparency expressed in bytes should be converted to RGBA images\n",
      "  warnings.warn(\n",
      "67it [02:28,  2.29s/it]/root/anaconda3/envs/llava/lib/python3.10/site-packages/PIL/Image.py:1056: UserWarning: Palette images with Transparency expressed in bytes should be converted to RGBA images\n",
      "  warnings.warn(\n",
      "/root/anaconda3/envs/llava/lib/python3.10/site-packages/PIL/Image.py:1056: UserWarning: Palette images with Transparency expressed in bytes should be converted to RGBA images\n",
      "  warnings.warn(\n",
      "/root/anaconda3/envs/llava/lib/python3.10/site-packages/PIL/Image.py:1056: UserWarning: Palette images with Transparency expressed in bytes should be converted to RGBA images\n",
      "  warnings.warn(\n",
      "/root/anaconda3/envs/llava/lib/python3.10/site-packages/PIL/Image.py:1056: UserWarning: Palette images with Transparency expressed in bytes should be converted to RGBA images\n",
      "  warnings.warn(\n",
      "/root/anaconda3/envs/llava/lib/python3.10/site-packages/PIL/Image.py:1056: UserWarning: Palette images with Transparency expressed in bytes should be converted to RGBA images\n",
      "  warnings.warn(\n",
      "/root/anaconda3/envs/llava/lib/python3.10/site-packages/PIL/Image.py:1056: UserWarning: Palette images with Transparency expressed in bytes should be converted to RGBA images\n",
      "  warnings.warn(\n",
      "/root/anaconda3/envs/llava/lib/python3.10/site-packages/PIL/Image.py:1056: UserWarning: Palette images with Transparency expressed in bytes should be converted to RGBA images\n",
      "  warnings.warn(\n",
      "/root/anaconda3/envs/llava/lib/python3.10/site-packages/PIL/Image.py:1056: UserWarning: Palette images with Transparency expressed in bytes should be converted to RGBA images\n",
      "  warnings.warn(\n",
      "/root/anaconda3/envs/llava/lib/python3.10/site-packages/PIL/Image.py:1056: UserWarning: Palette images with Transparency expressed in bytes should be converted to RGBA images\n",
      "  warnings.warn(\n",
      "/root/anaconda3/envs/llava/lib/python3.10/site-packages/PIL/Image.py:1056: UserWarning: Palette images with Transparency expressed in bytes should be converted to RGBA images\n",
      "  warnings.warn(\n",
      "/root/anaconda3/envs/llava/lib/python3.10/site-packages/PIL/Image.py:1056: UserWarning: Palette images with Transparency expressed in bytes should be converted to RGBA images\n",
      "  warnings.warn(\n",
      "/root/anaconda3/envs/llava/lib/python3.10/site-packages/PIL/Image.py:1056: UserWarning: Palette images with Transparency expressed in bytes should be converted to RGBA images\n",
      "  warnings.warn(\n",
      "/root/anaconda3/envs/llava/lib/python3.10/site-packages/PIL/Image.py:1056: UserWarning: Palette images with Transparency expressed in bytes should be converted to RGBA images\n",
      "  warnings.warn(\n",
      "/root/anaconda3/envs/llava/lib/python3.10/site-packages/PIL/Image.py:1056: UserWarning: Palette images with Transparency expressed in bytes should be converted to RGBA images\n",
      "  warnings.warn(\n",
      "/root/anaconda3/envs/llava/lib/python3.10/site-packages/PIL/Image.py:1056: UserWarning: Palette images with Transparency expressed in bytes should be converted to RGBA images\n",
      "  warnings.warn(\n",
      "/root/anaconda3/envs/llava/lib/python3.10/site-packages/PIL/Image.py:1056: UserWarning: Palette images with Transparency expressed in bytes should be converted to RGBA images\n",
      "  warnings.warn(\n",
      "/root/anaconda3/envs/llava/lib/python3.10/site-packages/PIL/Image.py:1056: UserWarning: Palette images with Transparency expressed in bytes should be converted to RGBA images\n",
      "  warnings.warn(\n",
      "/root/anaconda3/envs/llava/lib/python3.10/site-packages/PIL/Image.py:1056: UserWarning: Palette images with Transparency expressed in bytes should be converted to RGBA images\n",
      "  warnings.warn(\n",
      "/root/anaconda3/envs/llava/lib/python3.10/site-packages/PIL/Image.py:1056: UserWarning: Palette images with Transparency expressed in bytes should be converted to RGBA images\n",
      "  warnings.warn(\n",
      "/root/anaconda3/envs/llava/lib/python3.10/site-packages/PIL/Image.py:1056: UserWarning: Palette images with Transparency expressed in bytes should be converted to RGBA images\n",
      "  warnings.warn(\n",
      "87it [05:28,  1.36it/s]/root/anaconda3/envs/llava/lib/python3.10/site-packages/PIL/Image.py:1056: UserWarning: Palette images with Transparency expressed in bytes should be converted to RGBA images\n",
      "  warnings.warn(\n",
      "127it [06:04,  1.19it/s]/root/anaconda3/envs/llava/lib/python3.10/site-packages/PIL/Image.py:1056: UserWarning: Palette images with Transparency expressed in bytes should be converted to RGBA images\n",
      "  warnings.warn(\n",
      "131it [06:08,  1.15it/s]/root/anaconda3/envs/llava/lib/python3.10/site-packages/PIL/Image.py:1056: UserWarning: Palette images with Transparency expressed in bytes should be converted to RGBA images\n",
      "  warnings.warn(\n",
      "/root/anaconda3/envs/llava/lib/python3.10/site-packages/PIL/Image.py:1056: UserWarning: Palette images with Transparency expressed in bytes should be converted to RGBA images\n",
      "  warnings.warn(\n",
      "134it [06:23,  2.95s/it]/root/anaconda3/envs/llava/lib/python3.10/site-packages/PIL/Image.py:1056: UserWarning: Palette images with Transparency expressed in bytes should be converted to RGBA images\n",
      "  warnings.warn(\n",
      "143it [06:32,  1.29it/s]/root/anaconda3/envs/llava/lib/python3.10/site-packages/PIL/Image.py:1056: UserWarning: Palette images with Transparency expressed in bytes should be converted to RGBA images\n",
      "  warnings.warn(\n",
      "187it [07:11,  1.01s/it]/root/anaconda3/envs/llava/lib/python3.10/site-packages/PIL/Image.py:1056: UserWarning: Palette images with Transparency expressed in bytes should be converted to RGBA images\n",
      "  warnings.warn(\n",
      "195it [07:17,  1.32it/s]/root/anaconda3/envs/llava/lib/python3.10/site-packages/PIL/Image.py:1056: UserWarning: Palette images with Transparency expressed in bytes should be converted to RGBA images\n",
      "  warnings.warn(\n",
      "232it [07:55,  1.47it/s]/root/anaconda3/envs/llava/lib/python3.10/site-packages/PIL/Image.py:1056: UserWarning: Palette images with Transparency expressed in bytes should be converted to RGBA images\n",
      "  warnings.warn(\n",
      "238it [08:00,  1.28it/s]/root/anaconda3/envs/llava/lib/python3.10/site-packages/PIL/Image.py:1056: UserWarning: Palette images with Transparency expressed in bytes should be converted to RGBA images\n",
      "  warnings.warn(\n",
      "246it [08:06,  1.20it/s]/root/anaconda3/envs/llava/lib/python3.10/site-packages/PIL/Image.py:1056: UserWarning: Palette images with Transparency expressed in bytes should be converted to RGBA images\n",
      "  warnings.warn(\n",
      "272it [08:38,  1.40it/s]/root/anaconda3/envs/llava/lib/python3.10/site-packages/PIL/Image.py:1056: UserWarning: Palette images with Transparency expressed in bytes should be converted to RGBA images\n",
      "  warnings.warn(\n",
      "/root/anaconda3/envs/llava/lib/python3.10/site-packages/PIL/Image.py:1056: UserWarning: Palette images with Transparency expressed in bytes should be converted to RGBA images\n",
      "  warnings.warn(\n",
      "333it [09:42,  1.04it/s]/root/anaconda3/envs/llava/lib/python3.10/site-packages/PIL/Image.py:1056: UserWarning: Palette images with Transparency expressed in bytes should be converted to RGBA images\n",
      "  warnings.warn(\n",
      "547it [13:00,  1.57it/s]/root/anaconda3/envs/llava/lib/python3.10/site-packages/PIL/Image.py:1056: UserWarning: Palette images with Transparency expressed in bytes should be converted to RGBA images\n",
      "  warnings.warn(\n",
      "563it [13:12,  1.35it/s]/root/anaconda3/envs/llava/lib/python3.10/site-packages/PIL/Image.py:1056: UserWarning: Palette images with Transparency expressed in bytes should be converted to RGBA images\n",
      "  warnings.warn(\n",
      "698it [15:20,  1.04it/s]/root/anaconda3/envs/llava/lib/python3.10/site-packages/PIL/Image.py:1056: UserWarning: Palette images with Transparency expressed in bytes should be converted to RGBA images\n",
      "  warnings.warn(\n",
      "707it [15:26,  1.45it/s]/root/anaconda3/envs/llava/lib/python3.10/site-packages/PIL/Image.py:1056: UserWarning: Palette images with Transparency expressed in bytes should be converted to RGBA images\n",
      "  warnings.warn(\n",
      "831it [17:20,  1.33it/s]/root/anaconda3/envs/llava/lib/python3.10/site-packages/PIL/Image.py:1056: UserWarning: Palette images with Transparency expressed in bytes should be converted to RGBA images\n",
      "  warnings.warn(\n",
      "963it [19:16,  1.49it/s]/root/anaconda3/envs/llava/lib/python3.10/site-packages/PIL/Image.py:1056: UserWarning: Palette images with Transparency expressed in bytes should be converted to RGBA images\n",
      "  warnings.warn(\n",
      "1067it [20:54,  1.44it/s]/root/anaconda3/envs/llava/lib/python3.10/site-packages/PIL/Image.py:1056: UserWarning: Palette images with Transparency expressed in bytes should be converted to RGBA images\n",
      "  warnings.warn(\n",
      "1283it [24:16,  1.07it/s]/root/anaconda3/envs/llava/lib/python3.10/site-packages/PIL/Image.py:1056: UserWarning: Palette images with Transparency expressed in bytes should be converted to RGBA images\n",
      "  warnings.warn(\n",
      "1455it [26:54,  1.51it/s]/root/anaconda3/envs/llava/lib/python3.10/site-packages/PIL/Image.py:1056: UserWarning: Palette images with Transparency expressed in bytes should be converted to RGBA images\n",
      "  warnings.warn(\n",
      "2370it [40:31,  1.46it/s]/root/anaconda3/envs/llava/lib/python3.10/site-packages/PIL/Image.py:3368: DecompressionBombWarning: Image size (96456096 pixels) exceeds limit of 89478485 pixels, could be decompression bomb DOS attack.\n",
      "  warnings.warn(\n",
      "6762it [1:46:18,  1.40it/s]/root/anaconda3/envs/llava/lib/python3.10/site-packages/PIL/TiffImagePlugin.py:900: UserWarning: Corrupt EXIF data.  Expecting to read 2 bytes but only got 0. \n",
      "  warnings.warn(str(msg))\n",
      "9943it [2:32:48,  1.50it/s]"
     ]
    }
   ],
   "source": [
    "bs = 64\n",
    "coyo_images_embed = []\n",
    "coyo_images_filt = []\n",
    "coyo_caption = []\n",
    "\n",
    "def invalid_images_as_none(batch):\n",
    "    images = []\n",
    "    for image_url in batch[\"url\"]:\n",
    "        try:\n",
    "            image = Image.open(requests.get(image_url, stream=True, timeout=8).raw).convert('RGB')\n",
    "        except Exception:\n",
    "            image = None\n",
    "        images.append(image)\n",
    "    batch[\"image\"] = images\n",
    "    return batch\n",
    "\n",
    "dset = datasets.load_from_disk(\"/workspace/sea_vl/ALL_DATA_filtered\")\n",
    "dset = dset.with_transform(invalid_images_as_none)\n",
    "\n",
    "loader = DataLoader(dset, batch_size=bs, num_workers=bs, prefetch_factor=8, collate_fn=lambda x: {k: [row[k] for row in x] for k in x[0]})\n",
    "for i, batch in tqdm(enumerate(loader)):\n",
    "    imgs = []\n",
    "    for i, img in enumerate(batch['image']):\n",
    "        if img is not None:\n",
    "            if img.size[0] < 50 or img.size[1] < 50:\n",
    "                continue\n",
    "            imgs.append(img)\n",
    "            coyo_images_filt.append(batch['url'][i])\n",
    "            coyo_caption.append(batch['text'][i])\n",
    "    \n",
    "    img_embeds = model.encode(imgs, batch_size=bs)\n",
    "    for img_emb in img_embeds:\n",
    "        coyo_images_embed.append(img_emb)\n",
    "\n",
    "    if i == len(loader) - 1:\n",
    "        break"
   ]
  },
  {
   "cell_type": "code",
   "execution_count": null,
   "id": "671f832f-2717-4adb-ae40-bfe597789c86",
   "metadata": {
    "tags": []
   },
   "outputs": [],
   "source": [
    "print(len(coyo_images_embed), len(coyo_images_filt), len(coyo_caption), flush=True)\n",
    "pickle.dump((coyo_images_filt, coyo_images_embed, coyo_caption, []), open('./coyo.pkl', 'wb'))"
   ]
  },
  {
   "cell_type": "code",
   "execution_count": null,
   "id": "221315e4-193c-4223-89f0-ef259695ee6d",
   "metadata": {},
   "outputs": [],
   "source": []
  }
 ],
 "metadata": {
  "kernelspec": {
   "display_name": "llava",
   "language": "python",
   "name": "llava"
  },
  "language_info": {
   "codemirror_mode": {
    "name": "ipython",
    "version": 3
   },
   "file_extension": ".py",
   "mimetype": "text/x-python",
   "name": "python",
   "nbconvert_exporter": "python",
   "pygments_lexer": "ipython3",
   "version": "3.10.14"
  }
 },
 "nbformat": 4,
 "nbformat_minor": 5
}
