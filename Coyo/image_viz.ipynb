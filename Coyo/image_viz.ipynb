{
 "cells": [
  {
   "cell_type": "code",
   "execution_count": null,
   "id": "77f88373-dbfb-482b-9be4-6bff8b88f9f2",
   "metadata": {},
   "outputs": [],
   "source": [
    "import datasets"
   ]
  },
  {
   "cell_type": "code",
   "execution_count": null,
   "id": "5ff8f92b-f04b-4aed-83f8-9c72de596493",
   "metadata": {},
   "outputs": [],
   "source": [
    "filterd_data = datasets.load_from_disk(\"ALL_DATA_filtered\")"
   ]
  },
  {
   "cell_type": "code",
   "execution_count": null,
   "id": "0c4d61db-62ea-4852-b146-19246025bdf6",
   "metadata": {},
   "outputs": [],
   "source": [
    "limit_count = 0\n",
    "limit_number = 10\n",
    "for data in filterd_data:\n",
    "    if data['short_url'] == 'th':\n",
    "        limit_count+=1\n",
    "        print(data['url'])\n",
    "        print(data['text'])\n",
    "        if limit_count == limit_number:\n",
    "            break"
   ]
  }
 ],
 "metadata": {
  "kernelspec": {
   "display_name": "Python 3 (ipykernel)",
   "language": "python",
   "name": "python3"
  },
  "language_info": {
   "codemirror_mode": {
    "name": "ipython",
    "version": 3
   },
   "file_extension": ".py",
   "mimetype": "text/x-python",
   "name": "python",
   "nbconvert_exporter": "python",
   "pygments_lexer": "ipython3",
   "version": "3.10.14"
  }
 },
 "nbformat": 4,
 "nbformat_minor": 5
}
