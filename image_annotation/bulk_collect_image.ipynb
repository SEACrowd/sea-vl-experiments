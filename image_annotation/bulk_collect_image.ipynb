{
 "cells": [
  {
   "cell_type": "code",
   "execution_count": 2,
   "id": "588d90b2-3446-4fbe-b760-f7fa30ddab88",
   "metadata": {},
   "outputs": [],
   "source": [
    "import os\n",
    "\n",
    "from googleapiclient.discovery import build\n",
    "from googleapiclient.errors import HttpError\n",
    "from googleapiclient.http import MediaIoBaseDownload\n",
    "from google.oauth2 import service_account\n",
    "import pandas as pd\n",
    "from PIL import Image\n",
    "\n",
    "from datetime import datetime\n",
    "import requests\n",
    "from io import BytesIO\n",
    "from tqdm import tqdm\n",
    "from heic2png import HEIC2PNG\n",
    "from PIL import Image"
   ]
  },
  {
   "cell_type": "code",
   "execution_count": 3,
   "id": "c5dfcc0b-346a-41ba-8509-27552336d469",
   "metadata": {},
   "outputs": [],
   "source": [
    "def get_image_data (\n",
    "    image_url, text_cap_en=None, text_cap_native=None, text_culture_loc=None, \n",
    "    text_image_loc=None, text_submitter_native_lang=None\n",
    "):\n",
    "    created_at = datetime.now().strftime(\"%d/%m/%Y 00:00:00\")\n",
    "    return {\n",
    "        'annotation_id': None, 'annotator': None, 'email': 'seacrowd.research@gmail.com', \n",
    "        'created_at': created_at, 'timestamp': created_at, 'id': f'bulk_{idx}', 'image': image_url, \n",
    "        'lead_time': None, 'text_cap_en': text_cap_en, 'text_cap_native': text_cap_native, \n",
    "        'text_culture_loc': text_culture_loc, 'text_image_loc': text_image_loc, \n",
    "        'text_submitter_native_lang': text_submitter_native_lang, 'updated_at': None\n",
    "    }"
   ]
  },
  {
   "cell_type": "code",
   "execution_count": 7,
   "id": "970a178c-34da-48b0-8700-18e3f79bfe95",
   "metadata": {},
   "outputs": [
    {
     "name": "stderr",
     "output_type": "stream",
     "text": [
      "545it [00:00, 9403.22it/s]\n"
     ]
    }
   ],
   "source": [
    "BASE_PATH = \"./sea-vl-image-collection/data\"\n",
    "GH_BASE_PATH = \"https://raw.githubusercontent.com/SEACrowd/sea-vl-image-collection/refs/heads/main/data\"\n",
    "df = pd.read_csv('bulk_migrate_20250206.csv')\n",
    "migration_data = []\n",
    "\n",
    "for idx, row in tqdm(df.loc[df['migrate_date'].isna(), :].iterrows()):\n",
    "    image_path = row['Image Upload']\n",
    "    text_cap_en = row['In English, what is this image about?']\n",
    "    text_cap_native = row['In your native language, what is this image about?']\n",
    "    text_culture_loc = row['(Choose at least 1) This image portrays culturally-relevant information in...']\n",
    "    text_image_loc = row['Where was this image taken? (City, Country)']\n",
    "    text_submitter_native_lang = row[\"What's your native language?\"]\n",
    "\n",
    "    migration_data.append(\n",
    "        get_image_data(image_path, text_cap_en, text_cap_native, text_culture_loc, text_image_loc, text_submitter_native_lang)\n",
    "    )\n",
    "\n",
    "###\n",
    "# Image Dedup\n",
    "### \n",
    "\n",
    "# TODO: DeDup image data\n",
    "#  - Check all images from `sea-vl-image-collection/data`, exclude the one in `migration_data`\n",
    "#  - Filter `migration_data` whenever there is duplication\n",
    "#  - \n",
    "\n",
    "migrate_df = pd.DataFrame(migration_data)\n",
    "migrate_df.to_csv(f'bulk_ready_to_upload_{datetime.now().strftime(\"%Y%m%d\")}.csv', index=False)"
   ]
  },
  {
   "cell_type": "code",
   "execution_count": 8,
   "id": "e9596a4e-cdee-4db4-b30c-2dd82a9d9605",
   "metadata": {},
   "outputs": [
    {
     "data": {
      "text/plain": [
       "(545, 14)"
      ]
     },
     "execution_count": 8,
     "metadata": {},
     "output_type": "execute_result"
    }
   ],
   "source": [
    "migrate_df.shape"
   ]
  },
  {
   "cell_type": "code",
   "execution_count": null,
   "id": "f74f3cf0-1adb-4ca1-a4b9-f23f9051e354",
   "metadata": {},
   "outputs": [],
   "source": []
  }
 ],
 "metadata": {
  "kernelspec": {
   "display_name": "Python (env_instruct_align)",
   "language": "python",
   "name": "env_instruct_align"
  },
  "language_info": {
   "codemirror_mode": {
    "name": "ipython",
    "version": 3
   },
   "file_extension": ".py",
   "mimetype": "text/x-python",
   "name": "python",
   "nbconvert_exporter": "python",
   "pygments_lexer": "ipython3",
   "version": "3.10.4"
  }
 },
 "nbformat": 4,
 "nbformat_minor": 5
}
