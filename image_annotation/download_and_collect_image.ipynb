{
 "cells": [
  {
   "cell_type": "code",
   "execution_count": 1,
   "id": "588d90b2-3446-4fbe-b760-f7fa30ddab88",
   "metadata": {},
   "outputs": [],
   "source": [
    "import os\n",
    "\n",
    "from googleapiclient.discovery import build\n",
    "from googleapiclient.errors import HttpError\n",
    "from googleapiclient.http import MediaIoBaseDownload\n",
    "from google.oauth2 import service_account\n",
    "import pandas as pd\n",
    "\n",
    "from datetime import datetime\n",
    "import requests\n",
    "from io import BytesIO\n",
    "from tqdm import tqdm\n",
    "from heic2png import HEIC2PNG\n",
    "    \n",
    "# Authenticate and create the Google Drive client\n",
    "SCOPES = ['https://www.googleapis.com/auth/drive.readonly']\n",
    "SERVICE_ACCOUNT_FILE = 'babert-274310-c1924be40791.json'\n",
    "\n",
    "credentials = service_account.Credentials.from_service_account_file(SERVICE_ACCOUNT_FILE, scopes=SCOPES)\n",
    "drive_service = build('drive', 'v3', credentials=credentials)"
   ]
  },
  {
   "cell_type": "code",
   "execution_count": 2,
   "id": "c5dfcc0b-346a-41ba-8509-27552336d469",
   "metadata": {},
   "outputs": [],
   "source": [
    "def get_image_data (\n",
    "    image_url, text_cap_en=None, text_cap_native=None, text_culture_loc=None, \n",
    "    text_image_loc=None, text_submitter_native_lang=None\n",
    "):\n",
    "    created_at = datetime.now().strftime(\"%d/%m/%Y 00:00:00\")\n",
    "    return {\n",
    "        'annotation_id': None, 'annotator': None, 'email': 'seacrowd.research@gmail.com', \n",
    "        'created_at': created_at, 'timestamp': created_at, 'id': None, 'image': image_url, \n",
    "        'lead_time': None, 'text_cap_en': text_cap_en, 'text_cap_native': text_cap_native, \n",
    "        'text_culture_loc': text_culture_loc, 'text_image_loc': text_image_loc, \n",
    "        'text_submitter_native_lang': text_submitter_native_lang, 'updated_at': None\n",
    "    }\n",
    "\n",
    "def download_file_from_google_drive(drive_service, file_id, destination):\n",
    "    request = drive_service.files().get_media(fileId=file_id)\n",
    "    fh = BytesIO()\n",
    "    downloader = MediaIoBaseDownload(fd=fh, request=request)\n",
    "\n",
    "    done = False\n",
    "    while not done:\n",
    "        status, done = downloader.next_chunk()\n",
    "    fh.seek(0)\n",
    "\n",
    "    with open(destination, 'wb') as f:\n",
    "        f.write(fh.read())\n",
    "        f.close()\n",
    "\n",
    "def get_file_name_from_id(drive_service, file_id):\n",
    "    file = drive_service.files().get(fileId=file_id, fields='name').execute()\n",
    "    return file['name'].replace('\"','').replace(\"'\",\"\")"
   ]
  },
  {
   "cell_type": "code",
   "execution_count": 3,
   "id": "970a178c-34da-48b0-8700-18e3f79bfe95",
   "metadata": {},
   "outputs": [
    {
     "name": "stderr",
     "output_type": "stream",
     "text": [
      "1004it [05:24,  3.09it/s]\n"
     ]
    }
   ],
   "source": [
    "BASE_PATH = \"./sea-vl-image-collection/data\"\n",
    "GH_BASE_PATH = \"https://raw.githubusercontent.com/SEACrowd/sea-vl-image-collection/refs/heads/main/data\"\n",
    "df = pd.read_csv('migrate_24112024.csv')\n",
    "migration_data = []\n",
    "\n",
    "for idx, row in tqdm(df.loc[df['migrate_date'].isna(), :].iterrows()):\n",
    "    image_path = row['Image Upload']\n",
    "    text_cap_en = row['In English, what is this image about?']\n",
    "    text_cap_native = row['In your native language, what is this image about?']\n",
    "    text_culture_loc = row['(Choose at least 1) This image portrays culturally-relevant information in...']\n",
    "    text_image_loc = row['Where was this image taken? (City, Country)']\n",
    "    text_submitter_native_lang = row[\"What's your native language?\"]\n",
    "\n",
    "    # Download Image\n",
    "    file_id = image_path.split('?id=')[-1]\n",
    "    file_name = get_file_name_from_id(drive_service, file_id)\n",
    "    destination = f'{BASE_PATH}/{idx}_{file_name}'\n",
    "    download_file_from_google_drive(drive_service, file_id, destination)\n",
    "\n",
    "    if destination.lower().endswith('heic'):\n",
    "        heic_img = HEIC2PNG(destination, quality=90)  # Specify the quality of the converted image\n",
    "        destination = destination.lower().replace('.heic','.png')\n",
    "        \n",
    "        # Save as PNG\n",
    "        if os.path.exists(destination):\n",
    "            os.remove(destination)\n",
    "        heic_img.save(destination)\n",
    "        \n",
    "        # Update file_name\n",
    "        file_name = file_name.lower().replace('.heic','.png')\n",
    "\n",
    "    # Resize Image if too big\n",
    "    image = Image.open(destination)\n",
    "    (w, h) = image.size\n",
    "    if (w > 2200):\n",
    "        h = int(h * 2200. / w)\n",
    "        w = 2200\n",
    "    if (h > 2400):\n",
    "        h = int(h * 2200. / w)\n",
    "        w = 2200\n",
    "    image = image.resize((w, h), Image.BILINEAR)\n",
    "    image.save(destination)\n",
    "    \n",
    "    # Upload Image to XXX\n",
    "    img_url = f'{GH_BASE_PATH}/{idx}_{file_name}'\n",
    "    migration_data.append(\n",
    "        get_image_data(img_url, text_cap_en, text_cap_native, text_culture_loc, text_image_loc, text_submitter_native_lang)\n",
    "    )\n",
    "\n",
    "migrate_df = pd.DataFrame(migration_data)\n",
    "migrate_df.to_csv(f'ready_to_upload_{datetime.now().strftime(\"%Y%m%d\")}.csv', index=False)"
   ]
  },
  {
   "cell_type": "code",
   "execution_count": 4,
   "id": "e9596a4e-cdee-4db4-b30c-2dd82a9d9605",
   "metadata": {},
   "outputs": [
    {
     "data": {
      "text/plain": [
       "(1004, 14)"
      ]
     },
     "execution_count": 4,
     "metadata": {},
     "output_type": "execute_result"
    }
   ],
   "source": [
    "migrate_df.shape"
   ]
  },
  {
   "cell_type": "code",
   "execution_count": null,
   "id": "66698013-d045-4ef0-a458-6ecff73df008",
   "metadata": {},
   "outputs": [],
   "source": []
  }
 ],
 "metadata": {
  "kernelspec": {
   "display_name": "Python (env_instruct_align)",
   "language": "python",
   "name": "env_instruct_align"
  },
  "language_info": {
   "codemirror_mode": {
    "name": "ipython",
    "version": 3
   },
   "file_extension": ".py",
   "mimetype": "text/x-python",
   "name": "python",
   "nbconvert_exporter": "python",
   "pygments_lexer": "ipython3",
   "version": "3.10.4"
  }
 },
 "nbformat": 4,
 "nbformat_minor": 5
}
